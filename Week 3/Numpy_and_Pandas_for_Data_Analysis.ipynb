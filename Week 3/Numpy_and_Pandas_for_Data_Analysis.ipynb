{
  "cells": [
    {
      "cell_type": "markdown",
      "id": "250ac15e",
      "metadata": {
        "id": "250ac15e"
      },
      "source": [
        "<div align=\"center\" style=\" font-size: 80%; text-align: center; margin: 0 auto\">\n",
        "<img src=\"https://raw.githubusercontent.com/Explore-AI/Pictures/master/Python-Notebook-Banners/Code_challenge.png\"  style=\"display: block; margin-left: auto; margin-right: auto;\";/>\n",
        "</div>"
      ]
    },
    {
      "cell_type": "markdown",
      "id": "f662d169",
      "metadata": {
        "id": "f662d169"
      },
      "source": [
        "# NumPy and Pandas for Data Analysis\n",
        "© ExploreAI Academy\n",
        "\n",
        "In this notebook, we will cover how to use NumPy and Pandas for Data Analysis.\n",
        "\n",
        "## Learning Objectives\n",
        "\n",
        "* Know how to use Pandas for data analysis\n",
        "* Know how to use NumPy for data analysis"
      ]
    },
    {
      "cell_type": "markdown",
      "id": "Xc2Ga8-fkkKd",
      "metadata": {
        "id": "Xc2Ga8-fkkKd"
      },
      "source": [
        "## NumPy\n",
        "NumPy is a Python library that supports numerical computing. It is an open source project created by Travis Oliphant in 2005. It makes working with multi-dimensional arrays easy.\n",
        "\n",
        "It was created due to the unique challenges posed by numerical computations, such as those encountered in fields like data science, machine learning, physics, and engineering.\n",
        "\n",
        "Since NumPy arrays are implemented in C, they are optimized for performance, providing faster execution of mathematical operations compared to Python lists. And unlike Python lists, NumPy arrays only tolerate homogeneous data types, which are stored in a contiguous block of memory, leading to efficient storage and access."
      ]
    },
    {
      "cell_type": "markdown",
      "id": "PXvKWW92n4XK",
      "metadata": {
        "id": "PXvKWW92n4XK"
      },
      "source": [
        "### Creating NumPy Array\n",
        "A NumPy array can consist of one or more dimensions, and it can be created from a Python list. It can also be synthesized from scratch using functions like np.random.random, np.zeros, etc."
      ]
    },
    {
      "cell_type": "code",
      "execution_count": 1,
      "id": "8sC6SoidpVNE",
      "metadata": {
        "id": "8sC6SoidpVNE"
      },
      "outputs": [],
      "source": [
        "# Import NumPy\n",
        "import numpy as np"
      ]
    },
    {
      "cell_type": "markdown",
      "id": "wJ5XVeg9PMeK",
      "metadata": {
        "id": "wJ5XVeg9PMeK"
      },
      "source": [
        "**1D NumPy array**"
      ]
    },
    {
      "cell_type": "code",
      "execution_count": 2,
      "id": "T22Q76a0ouvF",
      "metadata": {
        "colab": {
          "base_uri": "https://localhost:8080/"
        },
        "id": "T22Q76a0ouvF",
        "outputId": "92d6d823-0269-4ae7-f4b1-ab42e4e3d279"
      },
      "outputs": [
        {
          "data": {
            "text/plain": [
              "array([1, 2, 3])"
            ]
          },
          "execution_count": 2,
          "metadata": {},
          "output_type": "execute_result"
        }
      ],
      "source": [
        "# Create a 1D NumPy array (vector)\n",
        "num_array_1 = np.array([1, 2, 3])\n",
        "\n",
        "num_array_1"
      ]
    },
    {
      "cell_type": "code",
      "execution_count": 3,
      "id": "Fh39B83arEuO",
      "metadata": {
        "colab": {
          "base_uri": "https://localhost:8080/"
        },
        "id": "Fh39B83arEuO",
        "outputId": "c6ac1d60-5a28-42a1-d886-7842fff64e4e"
      },
      "outputs": [
        {
          "data": {
            "text/plain": [
              "(3,)"
            ]
          },
          "execution_count": 3,
          "metadata": {},
          "output_type": "execute_result"
        }
      ],
      "source": [
        "# Dimension\n",
        "num_array_1.shape"
      ]
    },
    {
      "cell_type": "markdown",
      "id": "GAMTj60SPiRh",
      "metadata": {
        "id": "GAMTj60SPiRh"
      },
      "source": [
        "**2D NumPy array**"
      ]
    },
    {
      "cell_type": "code",
      "execution_count": 4,
      "id": "YpdO-gkGqcbV",
      "metadata": {
        "colab": {
          "base_uri": "https://localhost:8080/"
        },
        "id": "YpdO-gkGqcbV",
        "outputId": "1421997a-c680-4dff-a678-75431b352a7c"
      },
      "outputs": [
        {
          "data": {
            "text/plain": [
              "array([[1, 2, 3],\n",
              "       [4, 5, 6],\n",
              "       [7, 8, 9]])"
            ]
          },
          "execution_count": 4,
          "metadata": {},
          "output_type": "execute_result"
        }
      ],
      "source": [
        "# Create a 2D array (matrix)\n",
        "list_of_lists = [[1, 2, 3], [4, 5, 6], [7, 8, 9]]\n",
        "num_array_2 = np.array(list_of_lists)\n",
        "num_array_2\n"
      ]
    },
    {
      "cell_type": "code",
      "execution_count": 5,
      "id": "qRsgB_vLQbGR",
      "metadata": {
        "colab": {
          "base_uri": "https://localhost:8080/"
        },
        "id": "qRsgB_vLQbGR",
        "outputId": "1b54f090-f190-4e7d-d453-baba1fd435bb"
      },
      "outputs": [
        {
          "data": {
            "text/plain": [
              "(3, 3)"
            ]
          },
          "execution_count": 5,
          "metadata": {},
          "output_type": "execute_result"
        }
      ],
      "source": [
        "# Dimension\n",
        "num_array_2.shape"
      ]
    },
    {
      "cell_type": "markdown",
      "id": "05DsIwgpQmry",
      "metadata": {
        "id": "05DsIwgpQmry"
      },
      "source": [
        "**3D NumPy array**"
      ]
    },
    {
      "cell_type": "code",
      "execution_count": 6,
      "id": "yL3zTW36tcYV",
      "metadata": {
        "colab": {
          "base_uri": "https://localhost:8080/"
        },
        "id": "yL3zTW36tcYV",
        "outputId": "3dd24b9b-5fa7-4f45-a748-f1053ea2c005"
      },
      "outputs": [
        {
          "data": {
            "text/plain": [
              "array([[[1, 2, 3],\n",
              "        [4, 5, 6],\n",
              "        [7, 8, 9]],\n",
              "\n",
              "       [[1, 2, 3],\n",
              "        [4, 5, 6],\n",
              "        [7, 8, 9]]])"
            ]
          },
          "execution_count": 6,
          "metadata": {},
          "output_type": "execute_result"
        }
      ],
      "source": [
        "# Create a 3D array (Tensor)\n",
        "list_of_lists_of_lists = [list_of_lists, list_of_lists]\n",
        "num_array_3 = np.array(list_of_lists_of_lists)\n",
        "num_array_3"
      ]
    },
    {
      "cell_type": "code",
      "execution_count": 7,
      "id": "Lw_tZcFVQ4-6",
      "metadata": {
        "colab": {
          "base_uri": "https://localhost:8080/"
        },
        "id": "Lw_tZcFVQ4-6",
        "outputId": "a42d1fdd-5869-4d88-c5c1-4fbe6f67ed47"
      },
      "outputs": [
        {
          "data": {
            "text/plain": [
              "(2, 3, 3)"
            ]
          },
          "execution_count": 7,
          "metadata": {},
          "output_type": "execute_result"
        }
      ],
      "source": [
        "# Dimesion\n",
        "num_array_3.shape"
      ]
    },
    {
      "cell_type": "markdown",
      "id": "Z8df7JOSuS3F",
      "metadata": {
        "id": "Z8df7JOSuS3F"
      },
      "source": [
        "**Reshaping arrays**"
      ]
    },
    {
      "cell_type": "code",
      "execution_count": 85,
      "id": "kdqQTis_udKf",
      "metadata": {
        "colab": {
          "base_uri": "https://localhost:8080/"
        },
        "id": "kdqQTis_udKf",
        "outputId": "fb45dcdf-25b5-4f75-ffa2-f8da10832919"
      },
      "outputs": [
        {
          "data": {
            "text/plain": [
              "array([[1, 2, 3]])"
            ]
          },
          "execution_count": 85,
          "metadata": {},
          "output_type": "execute_result"
        }
      ],
      "source": [
        "# Reshape 1D array\n",
        "len_array_1 = len(num_array_1)\n",
        "num_array_reshape = num_array_1.reshape(1, len_array_1)\n",
        "\n",
        "num_array_reshape"
      ]
    },
    {
      "cell_type": "code",
      "execution_count": 86,
      "id": "wcNGvcWCSW-a",
      "metadata": {
        "colab": {
          "base_uri": "https://localhost:8080/"
        },
        "id": "wcNGvcWCSW-a",
        "outputId": "eac6ae92-a144-4038-df37-4b7af5a9b842"
      },
      "outputs": [
        {
          "data": {
            "text/plain": [
              "(1, 3)"
            ]
          },
          "execution_count": 86,
          "metadata": {},
          "output_type": "execute_result"
        }
      ],
      "source": [
        "# Dimension\n",
        "num_array_reshape.shape"
      ]
    },
    {
      "cell_type": "code",
      "execution_count": 87,
      "id": "y8EVgz3JudiF",
      "metadata": {
        "colab": {
          "base_uri": "https://localhost:8080/"
        },
        "id": "y8EVgz3JudiF",
        "outputId": "052dedc6-5381-42c2-976a-1bc5bfc574b9"
      },
      "outputs": [
        {
          "data": {
            "text/plain": [
              "array([1, 2, 3, 4, 5, 6, 7, 8, 9])"
            ]
          },
          "execution_count": 87,
          "metadata": {},
          "output_type": "execute_result"
        }
      ],
      "source": [
        "# Flatten the array\n",
        "num_array_flat = num_array_2.flatten()\n",
        "num_array_flat"
      ]
    },
    {
      "cell_type": "markdown",
      "id": "XpY1cPXxzgmP",
      "metadata": {
        "id": "XpY1cPXxzgmP"
      },
      "source": [
        "### NumPy Array Indexing\n",
        "Similar to Python lists, NumPy employs zero-based indexing, where counting begins from zero, and the last index is excluded in the returned values, defining a range of values.\n",
        "\n",
        "For a 2D array:\n",
        "\n",
        "* `np.array[vertical index , horizontal index]` or `np.array[vertical index][horizontal index]` – for one element\n",
        "* `np.array[vertical start:vertical end , horizontal start:horizontal end]` – for more than one element "
      ]
    },
    {
      "cell_type": "code",
      "execution_count": 8,
      "id": "6r30--JYz_qb",
      "metadata": {
        "colab": {
          "base_uri": "https://localhost:8080/"
        },
        "id": "6r30--JYz_qb",
        "outputId": "09727de8-203e-4f13-b24d-fb33b929d7ac"
      },
      "outputs": [
        {
          "data": {
            "text/plain": [
              "array([[1, 2, 3],\n",
              "       [4, 5, 6],\n",
              "       [7, 8, 9]])"
            ]
          },
          "execution_count": 8,
          "metadata": {},
          "output_type": "execute_result"
        }
      ],
      "source": [
        "# View num_array_2\n",
        "num_array_2"
      ]
    },
    {
      "cell_type": "code",
      "execution_count": 9,
      "id": "WoDGBKAP0yND",
      "metadata": {
        "colab": {
          "base_uri": "https://localhost:8080/"
        },
        "id": "WoDGBKAP0yND",
        "outputId": "32e493aa-736f-40c6-cea3-8e6747f81ad1"
      },
      "outputs": [
        {
          "data": {
            "text/plain": [
              "6"
            ]
          },
          "execution_count": 9,
          "metadata": {},
          "output_type": "execute_result"
        }
      ],
      "source": [
        "# Select an element\n",
        "num_array_2[1, 2]"
      ]
    },
    {
      "cell_type": "code",
      "execution_count": 90,
      "id": "86eea33b",
      "metadata": {},
      "outputs": [
        {
          "data": {
            "text/plain": [
              "6"
            ]
          },
          "execution_count": 90,
          "metadata": {},
          "output_type": "execute_result"
        }
      ],
      "source": [
        "num_array_2[1][2]"
      ]
    },
    {
      "cell_type": "code",
      "execution_count": 91,
      "id": "QfNjT4PUz_uy",
      "metadata": {
        "colab": {
          "base_uri": "https://localhost:8080/"
        },
        "id": "QfNjT4PUz_uy",
        "outputId": "368bf663-8fed-45b5-fe83-ea84aeff9dc2"
      },
      "outputs": [
        {
          "data": {
            "text/plain": [
              "array([1, 2, 3])"
            ]
          },
          "execution_count": 91,
          "metadata": {},
          "output_type": "execute_result"
        }
      ],
      "source": [
        "# Select a row\n",
        "num_array_2[0]"
      ]
    },
    {
      "cell_type": "code",
      "execution_count": 10,
      "id": "slGi8uA4z_yL",
      "metadata": {
        "colab": {
          "base_uri": "https://localhost:8080/"
        },
        "id": "slGi8uA4z_yL",
        "outputId": "fd1410b0-df38-4d3a-8761-2168612076c8"
      },
      "outputs": [
        {
          "data": {
            "text/plain": [
              "array([1, 4, 7])"
            ]
          },
          "execution_count": 10,
          "metadata": {},
          "output_type": "execute_result"
        }
      ],
      "source": [
        "# Select a column\n",
        "num_array_2[: , 0]"
      ]
    },
    {
      "cell_type": "code",
      "execution_count": 16,
      "id": "gOsIDPDZpVrI",
      "metadata": {
        "colab": {
          "base_uri": "https://localhost:8080/"
        },
        "id": "gOsIDPDZpVrI",
        "outputId": "83f40ebb-22af-4b50-a481-1068b79b0792"
      },
      "outputs": [
        {
          "data": {
            "text/plain": [
              "array([[5]])"
            ]
          },
          "execution_count": 16,
          "metadata": {},
          "output_type": "execute_result"
        }
      ],
      "source": [
        "# Select a range of values\n",
        "# play around with values here to see how it works\n",
        "num_array_2[1:2, 1:2]\n"
      ]
    },
    {
      "cell_type": "markdown",
      "id": "Fd4YxWli2UrJ",
      "metadata": {
        "id": "Fd4YxWli2UrJ"
      },
      "source": [
        "### Sorting NumPy arrays\n",
        "We can sort arrays of various shapes with NumPy.\n",
        "\n",
        "**Sort 1D array**"
      ]
    },
    {
      "cell_type": "code",
      "execution_count": 94,
      "id": "afFAy0tmWGpd",
      "metadata": {
        "colab": {
          "base_uri": "https://localhost:8080/"
        },
        "id": "afFAy0tmWGpd",
        "outputId": "02a3a940-c5ba-40d2-97bc-e817cbc1d513"
      },
      "outputs": [
        {
          "data": {
            "text/plain": [
              "array([3, 1, 4, 1, 5, 9, 2, 6, 5, 3, 5])"
            ]
          },
          "execution_count": 94,
          "metadata": {},
          "output_type": "execute_result"
        }
      ],
      "source": [
        "# Create array\n",
        "num_array_5 = np.array([3, 1, 4, 1, 5, 9, 2, 6, 5, 3, 5])\n",
        "num_array_5"
      ]
    },
    {
      "cell_type": "code",
      "execution_count": 95,
      "id": "1f4CRgurWl5g",
      "metadata": {
        "colab": {
          "base_uri": "https://localhost:8080/"
        },
        "id": "1f4CRgurWl5g",
        "outputId": "91be2998-9638-4709-a334-95f37364ab58"
      },
      "outputs": [
        {
          "data": {
            "text/plain": [
              "array([1, 1, 2, 3, 3, 4, 5, 5, 5, 6, 9])"
            ]
          },
          "execution_count": 95,
          "metadata": {},
          "output_type": "execute_result"
        }
      ],
      "source": [
        "# Sort 1D array\n",
        "num_array_5.sort()\n",
        "num_array_5"
      ]
    },
    {
      "cell_type": "markdown",
      "id": "6mWzcfOmZumr",
      "metadata": {
        "id": "6mWzcfOmZumr"
      },
      "source": [
        "**Sort 2D array**"
      ]
    },
    {
      "cell_type": "code",
      "execution_count": 96,
      "id": "v653B9dM2dbY",
      "metadata": {
        "colab": {
          "base_uri": "https://localhost:8080/"
        },
        "id": "v653B9dM2dbY",
        "outputId": "7148bb23-eb73-4cd0-8b38-5de48c0c03ff"
      },
      "outputs": [
        {
          "data": {
            "text/plain": [
              "array([[3, 1, 4],\n",
              "       [1, 5, 9],\n",
              "       [2, 6, 5]])"
            ]
          },
          "execution_count": 96,
          "metadata": {},
          "output_type": "execute_result"
        }
      ],
      "source": [
        "# Sort 2D array\n",
        "num_array_6 = np.array([[3, 1, 4], [1, 5, 9], [2, 6, 5]])\n",
        "num_array_6"
      ]
    },
    {
      "cell_type": "code",
      "execution_count": 97,
      "id": "adB9osiyZOPj",
      "metadata": {
        "colab": {
          "base_uri": "https://localhost:8080/"
        },
        "id": "adB9osiyZOPj",
        "outputId": "df857234-7d20-4079-d28d-48e77ea91663"
      },
      "outputs": [
        {
          "data": {
            "text/plain": [
              "array([[1, 1, 4],\n",
              "       [2, 5, 5],\n",
              "       [3, 6, 9]])"
            ]
          },
          "execution_count": 97,
          "metadata": {},
          "output_type": "execute_result"
        }
      ],
      "source": [
        "# Sorting along axis 0 (columns)\n",
        "num_array_sorted_1 = np.sort(num_array_6, axis=0)\n",
        "num_array_sorted_1"
      ]
    },
    {
      "cell_type": "code",
      "execution_count": 98,
      "id": "ZZVNM9bjYu9F",
      "metadata": {
        "colab": {
          "base_uri": "https://localhost:8080/"
        },
        "id": "ZZVNM9bjYu9F",
        "outputId": "f3825990-7e2e-44f4-e44b-3278880bb1af"
      },
      "outputs": [
        {
          "data": {
            "text/plain": [
              "array([[1, 3, 4],\n",
              "       [1, 5, 9],\n",
              "       [2, 5, 6]])"
            ]
          },
          "execution_count": 98,
          "metadata": {},
          "output_type": "execute_result"
        }
      ],
      "source": [
        "# Sorting along axis 1 (rows)\n",
        "num_array_sorted_2 = np.sort(num_array_6, axis=1)\n",
        "num_array_sorted_2"
      ]
    },
    {
      "cell_type": "markdown",
      "id": "FcDdjkU5aHWA",
      "metadata": {
        "id": "FcDdjkU5aHWA"
      },
      "source": [
        "**Array Concatenation**"
      ]
    },
    {
      "cell_type": "code",
      "execution_count": 99,
      "id": "Bx1ETnJB3jUX",
      "metadata": {
        "colab": {
          "base_uri": "https://localhost:8080/"
        },
        "id": "Bx1ETnJB3jUX",
        "outputId": "d05cc3be-0343-4929-9069-dc7d6ec1742b"
      },
      "outputs": [
        {
          "data": {
            "text/plain": [
              "array([[1, 2, 3, 3, 1, 4],\n",
              "       [4, 5, 6, 1, 5, 9],\n",
              "       [7, 8, 9, 2, 6, 5]])"
            ]
          },
          "execution_count": 99,
          "metadata": {},
          "output_type": "execute_result"
        }
      ],
      "source": [
        "# Concatenate arrays\n",
        "num_array_concat = np.concatenate((num_array_2, num_array_6), axis=1)\n",
        "num_array_concat"
      ]
    },
    {
      "cell_type": "code",
      "execution_count": 100,
      "id": "IkI8dyS9vHXl",
      "metadata": {
        "colab": {
          "base_uri": "https://localhost:8080/"
        },
        "id": "IkI8dyS9vHXl",
        "outputId": "1219e2be-427b-4806-c49c-78f433ec7853"
      },
      "outputs": [
        {
          "data": {
            "text/plain": [
              "array([[1, 2, 3],\n",
              "       [4, 5, 6],\n",
              "       [7, 8, 9],\n",
              "       [1, 2, 3],\n",
              "       [4, 5, 6],\n",
              "       [7, 8, 9]])"
            ]
          },
          "execution_count": 100,
          "metadata": {},
          "output_type": "execute_result"
        }
      ],
      "source": [
        "# Stack vertically\n",
        "num_array_vstack = np.vstack((num_array_2, num_array_2))\n",
        "num_array_vstack"
      ]
    },
    {
      "cell_type": "code",
      "execution_count": 101,
      "id": "OHEdypCfySrd",
      "metadata": {
        "colab": {
          "base_uri": "https://localhost:8080/"
        },
        "id": "OHEdypCfySrd",
        "outputId": "2d322a9d-cb45-4dec-978a-19e0c6a0d567"
      },
      "outputs": [
        {
          "data": {
            "text/plain": [
              "array([[1, 2, 3, 1, 2, 3],\n",
              "       [4, 5, 6, 4, 5, 6],\n",
              "       [7, 8, 9, 7, 8, 9]])"
            ]
          },
          "execution_count": 101,
          "metadata": {},
          "output_type": "execute_result"
        }
      ],
      "source": [
        "# Stack horizontally\n",
        "num_array_hstack = np.hstack((num_array_2, num_array_2))\n",
        "num_array_hstack"
      ]
    },
    {
      "cell_type": "markdown",
      "id": "MfYr-ZPT4kxc",
      "metadata": {
        "id": "MfYr-ZPT4kxc"
      },
      "source": [
        "**NumPy array elements deletion**"
      ]
    },
    {
      "cell_type": "code",
      "execution_count": 102,
      "id": "OFBKYVZcziR1",
      "metadata": {
        "colab": {
          "base_uri": "https://localhost:8080/"
        },
        "id": "OFBKYVZcziR1",
        "outputId": "8f1498fa-1299-47e3-a363-d0d32302a5f7"
      },
      "outputs": [
        {
          "data": {
            "text/plain": [
              "array([[1, 2, 3],\n",
              "       [4, 5, 6],\n",
              "       [7, 8, 9],\n",
              "       [1, 2, 3],\n",
              "       [4, 5, 6],\n",
              "       [7, 8, 9]])"
            ]
          },
          "execution_count": 102,
          "metadata": {},
          "output_type": "execute_result"
        }
      ],
      "source": [
        "# Create array for deletion\n",
        "num_array_del = np.vstack((num_array_2, num_array_2))\n",
        "num_array_del"
      ]
    },
    {
      "cell_type": "code",
      "execution_count": 103,
      "id": "U4DZHx4o8-D5",
      "metadata": {
        "colab": {
          "base_uri": "https://localhost:8080/"
        },
        "id": "U4DZHx4o8-D5",
        "outputId": "5906602c-9501-4871-9b62-d69fce55d998"
      },
      "outputs": [
        {
          "data": {
            "text/plain": [
              "array([[1, 2, 3],\n",
              "       [7, 8, 9],\n",
              "       [4, 5, 6],\n",
              "       [7, 8, 9]])"
            ]
          },
          "execution_count": 103,
          "metadata": {},
          "output_type": "execute_result"
        }
      ],
      "source": [
        "# Deleting a list of rows\n",
        "np.delete(num_array_del, [1, 3], 0)"
      ]
    },
    {
      "cell_type": "code",
      "execution_count": 104,
      "id": "RWbRRA6e0bcO",
      "metadata": {
        "colab": {
          "base_uri": "https://localhost:8080/"
        },
        "id": "RWbRRA6e0bcO",
        "outputId": "abf84af1-ffaf-4587-914f-00b20bd05352"
      },
      "outputs": [
        {
          "data": {
            "text/plain": [
              "array([[1],\n",
              "       [4],\n",
              "       [7],\n",
              "       [1],\n",
              "       [4],\n",
              "       [7]])"
            ]
          },
          "execution_count": 104,
          "metadata": {},
          "output_type": "execute_result"
        }
      ],
      "source": [
        "# Deleting a list of columns\n",
        "np.delete(num_array_del, [1, 2], 1)"
      ]
    },
    {
      "cell_type": "markdown",
      "id": "yqG_d_xV_OGi",
      "metadata": {
        "id": "yqG_d_xV_OGi"
      },
      "source": [
        "### Data Aggregation (Summary Statistics)\n",
        "We can calculate various summary statistics like mean, sum, max, etc. with NumPy."
      ]
    },
    {
      "cell_type": "code",
      "execution_count": 105,
      "id": "zDSgMcJM2IKz",
      "metadata": {
        "colab": {
          "base_uri": "https://localhost:8080/"
        },
        "id": "zDSgMcJM2IKz",
        "outputId": "c0f2d806-6336-41c3-ff81-a1d1959402b3"
      },
      "outputs": [
        {
          "data": {
            "text/plain": [
              "array([[1, 2, 3],\n",
              "       [4, 5, 6],\n",
              "       [7, 8, 9]])"
            ]
          },
          "execution_count": 105,
          "metadata": {},
          "output_type": "execute_result"
        }
      ],
      "source": [
        "# Views num_array_2\n",
        "num_array_2"
      ]
    },
    {
      "cell_type": "code",
      "execution_count": 106,
      "id": "s1WpvRme-GKb",
      "metadata": {
        "colab": {
          "base_uri": "https://localhost:8080/"
        },
        "id": "s1WpvRme-GKb",
        "outputId": "0124ea24-feb2-4f99-ba9f-d519617da3ad"
      },
      "outputs": [
        {
          "data": {
            "text/plain": [
              "45"
            ]
          },
          "execution_count": 106,
          "metadata": {},
          "output_type": "execute_result"
        }
      ],
      "source": [
        "# Sum all the elements of the array\n",
        "np.sum(num_array_2)"
      ]
    },
    {
      "cell_type": "code",
      "execution_count": 107,
      "id": "_-MsSNVD-GOl",
      "metadata": {
        "colab": {
          "base_uri": "https://localhost:8080/"
        },
        "id": "_-MsSNVD-GOl",
        "outputId": "9ae5ad89-c35d-43ca-9a6e-972c1df4a796"
      },
      "outputs": [
        {
          "data": {
            "text/plain": [
              "array([ 6, 15, 24])"
            ]
          },
          "execution_count": 107,
          "metadata": {},
          "output_type": "execute_result"
        }
      ],
      "source": [
        "# Row wise summation\n",
        "np.sum(num_array_2, axis=1)"
      ]
    },
    {
      "cell_type": "code",
      "execution_count": 108,
      "id": "IsY11k-y-GSv",
      "metadata": {
        "colab": {
          "base_uri": "https://localhost:8080/"
        },
        "id": "IsY11k-y-GSv",
        "outputId": "4b220732-6fd7-4bca-df3c-4bb76b0a29dd"
      },
      "outputs": [
        {
          "data": {
            "text/plain": [
              "array([12, 15, 18])"
            ]
          },
          "execution_count": 108,
          "metadata": {},
          "output_type": "execute_result"
        }
      ],
      "source": [
        "# Column wise summation\n",
        "np.sum(num_array_2, axis=0)"
      ]
    },
    {
      "cell_type": "markdown",
      "id": "MnkoNjFXA3E2",
      "metadata": {
        "id": "MnkoNjFXA3E2"
      },
      "source": [
        "### Vectorised operation\n",
        "**Broadcasting**\n",
        "\n",
        "Adding a scalar to all list elements"
      ]
    },
    {
      "cell_type": "code",
      "execution_count": 109,
      "id": "Q8q-SfNSCIjA",
      "metadata": {
        "colab": {
          "base_uri": "https://localhost:8080/"
        },
        "id": "Q8q-SfNSCIjA",
        "outputId": "3bdcb426-2255-4a6e-9ab5-7a0f6e86a567"
      },
      "outputs": [
        {
          "data": {
            "text/plain": [
              "[[1, 2, 3], [4, 5, 6], [7, 8, 9]]"
            ]
          },
          "execution_count": 109,
          "metadata": {},
          "output_type": "execute_result"
        }
      ],
      "source": [
        "# Create list of lists\n",
        "list_of_lists = [\n",
        "    [1, 2, 3],\n",
        "    [4, 5, 6],\n",
        "    [7, 8, 9]\n",
        "]\n",
        "list_of_lists"
      ]
    },
    {
      "cell_type": "code",
      "execution_count": 110,
      "id": "Wagkrg_pCsHq",
      "metadata": {
        "colab": {
          "base_uri": "https://localhost:8080/",
          "height": 175
        },
        "id": "Wagkrg_pCsHq",
        "outputId": "59d639ca-e2fb-42a2-903b-af5ac8204270"
      },
      "outputs": [],
      "source": [
        "# list_of_lists + 3"
      ]
    },
    {
      "cell_type": "code",
      "execution_count": 111,
      "id": "QFFA4q_YCOuL",
      "metadata": {
        "id": "QFFA4q_YCOuL"
      },
      "outputs": [],
      "source": [
        "# Create an empty list to store the result\n",
        "result = []\n",
        "\n",
        "# Iterate through the outer list\n",
        "for inner_list in list_of_lists:\n",
        "    # Create an empty list for each inner list in the result\n",
        "    new_inner_list = []\n",
        "\n",
        "    # Iterate through the elements of the inner list\n",
        "    for element in inner_list:\n",
        "        # Add 3 to each element and append to the new_inner_list\n",
        "        new_inner_list.append(element + 3)\n",
        "\n",
        "    # Append the new_inner_list to the result\n",
        "    result.append(new_inner_list)\n",
        "\n"
      ]
    },
    {
      "cell_type": "code",
      "execution_count": 112,
      "id": "3fEPeqEeHzMq",
      "metadata": {
        "id": "3fEPeqEeHzMq"
      },
      "outputs": [
        {
          "data": {
            "text/plain": [
              "[[4, 5, 6], [7, 8, 9], [10, 11, 12]]"
            ]
          },
          "execution_count": 112,
          "metadata": {},
          "output_type": "execute_result"
        }
      ],
      "source": [
        "# View the results\n",
        "result"
      ]
    },
    {
      "cell_type": "code",
      "execution_count": 113,
      "id": "_cv_E3Xd-GWl",
      "metadata": {
        "id": "_cv_E3Xd-GWl"
      },
      "outputs": [
        {
          "data": {
            "text/plain": [
              "array([[1, 2, 3],\n",
              "       [4, 5, 6],\n",
              "       [7, 8, 9]])"
            ]
          },
          "execution_count": 113,
          "metadata": {},
          "output_type": "execute_result"
        }
      ],
      "source": [
        "num_array_8 = np.array(list_of_lists)\n",
        "num_array_8"
      ]
    },
    {
      "cell_type": "code",
      "execution_count": 114,
      "id": "Co4400UaDVVo",
      "metadata": {
        "id": "Co4400UaDVVo"
      },
      "outputs": [
        {
          "data": {
            "text/plain": [
              "array([[ 4,  5,  6],\n",
              "       [ 7,  8,  9],\n",
              "       [10, 11, 12]])"
            ]
          },
          "execution_count": 114,
          "metadata": {},
          "output_type": "execute_result"
        }
      ],
      "source": [
        "num_array_8 + 3"
      ]
    },
    {
      "cell_type": "markdown",
      "id": "8z2DpfcAJYWF",
      "metadata": {
        "id": "8z2DpfcAJYWF"
      },
      "source": [
        "**Element wise operation**"
      ]
    },
    {
      "cell_type": "code",
      "execution_count": 115,
      "id": "E7LUvEHNJbfY",
      "metadata": {
        "id": "E7LUvEHNJbfY"
      },
      "outputs": [
        {
          "data": {
            "text/plain": [
              "array([5, 8, 9, 8, 5])"
            ]
          },
          "execution_count": 115,
          "metadata": {},
          "output_type": "execute_result"
        }
      ],
      "source": [
        "# Create two arrays\n",
        "array_a = np.array([1, 2, 3, 4, 5])\n",
        "array_b = np.array([5, 4, 3, 2, 1])\n",
        "\n",
        "# Vectorized multiplication\n",
        "result_multiplication = array_a * array_b\n",
        "result_multiplication\n"
      ]
    },
    {
      "cell_type": "markdown",
      "id": "ZVj0N6rhJk95",
      "metadata": {
        "id": "ZVj0N6rhJk95"
      },
      "source": [
        "## Pandas\n",
        "Pandas is a Python library designed for efficient data analysis and manipulation. It builds on the foundations of NumPy and Matplotlib and was initially developed by Wes McKinney in 2008.\n",
        "### Elements of Pandas\n",
        "- A Pandas Series is a one-dimensional labeled array that can hold any data type. It is similar to a column in a spreadsheet\n",
        "- A DataFrame is a two-dimensional labeled data structure in the Pandas library."
      ]
    },
    {
      "cell_type": "code",
      "execution_count": 17,
      "id": "X58DQpXZNIeX",
      "metadata": {
        "id": "X58DQpXZNIeX"
      },
      "outputs": [],
      "source": [
        "import pandas as pd"
      ]
    },
    {
      "cell_type": "code",
      "execution_count": 18,
      "id": "feAS_yJGp8RH",
      "metadata": {
        "id": "feAS_yJGp8RH"
      },
      "outputs": [
        {
          "data": {
            "text/plain": [
              "0    10\n",
              "1    20\n",
              "2    30\n",
              "3    40\n",
              "4    50\n",
              "dtype: int64"
            ]
          },
          "execution_count": 18,
          "metadata": {},
          "output_type": "execute_result"
        }
      ],
      "source": [
        "# Creating a Pandas series\n",
        "data_array = np.array([10, 20, 30, 40, 50])\n",
        "series_from_array = pd.Series(data_array)\n",
        "series_from_array"
      ]
    },
    {
      "cell_type": "markdown",
      "id": "1DqjS7bkFVZG",
      "metadata": {
        "id": "1DqjS7bkFVZG"
      },
      "source": [
        "### Loading Explore Electronics Sales Records\n",
        "We will be working with a generated dataset containing sales records from Explore Electronics Store."
      ]
    },
    {
      "cell_type": "code",
      "execution_count": 30,
      "id": "8CWArOaNrfNC",
      "metadata": {
        "id": "8CWArOaNrfNC"
      },
      "outputs": [],
      "source": [
        "# Load the datset\n",
        "explore_sales  = pd.read_csv(\"https://raw.githubusercontent.com/damian-vather/data/master/explore_electronics_sales.csv\")"
      ]
    },
    {
      "cell_type": "markdown",
      "id": "ScWMs95WVCRM",
      "metadata": {
        "id": "ScWMs95WVCRM"
      },
      "source": [
        "### Explore the dataset"
      ]
    },
    {
      "cell_type": "code",
      "execution_count": 31,
      "id": "iHJp_qU8Iwfq",
      "metadata": {
        "id": "iHJp_qU8Iwfq"
      },
      "outputs": [
        {
          "data": {
            "text/html": [
              "<div>\n",
              "<style scoped>\n",
              "    .dataframe tbody tr th:only-of-type {\n",
              "        vertical-align: middle;\n",
              "    }\n",
              "\n",
              "    .dataframe tbody tr th {\n",
              "        vertical-align: top;\n",
              "    }\n",
              "\n",
              "    .dataframe thead th {\n",
              "        text-align: right;\n",
              "    }\n",
              "</style>\n",
              "<table border=\"1\" class=\"dataframe\">\n",
              "  <thead>\n",
              "    <tr style=\"text-align: right;\">\n",
              "      <th></th>\n",
              "      <th>date</th>\n",
              "      <th>customer_id</th>\n",
              "      <th>customer_name</th>\n",
              "      <th>salesperson</th>\n",
              "      <th>product</th>\n",
              "      <th>quantity</th>\n",
              "      <th>unit_price</th>\n",
              "    </tr>\n",
              "  </thead>\n",
              "  <tbody>\n",
              "    <tr>\n",
              "      <th>0</th>\n",
              "      <td>2019-04-03</td>\n",
              "      <td>655</td>\n",
              "      <td>Scott Perez</td>\n",
              "      <td>Segun</td>\n",
              "      <td>Laptop</td>\n",
              "      <td>3</td>\n",
              "      <td>1000.0</td>\n",
              "    </tr>\n",
              "    <tr>\n",
              "      <th>1</th>\n",
              "      <td>2020-05-25</td>\n",
              "      <td>143</td>\n",
              "      <td>Patricia Warren</td>\n",
              "      <td>Andiswa</td>\n",
              "      <td>Bluetooth Keyboard</td>\n",
              "      <td>1</td>\n",
              "      <td>100.0</td>\n",
              "    </tr>\n",
              "    <tr>\n",
              "      <th>2</th>\n",
              "      <td>2020-01-22</td>\n",
              "      <td>33</td>\n",
              "      <td>Deborah White</td>\n",
              "      <td>James</td>\n",
              "      <td>Tablet</td>\n",
              "      <td>2</td>\n",
              "      <td>900.0</td>\n",
              "    </tr>\n",
              "    <tr>\n",
              "      <th>3</th>\n",
              "      <td>2023-06-29</td>\n",
              "      <td>617</td>\n",
              "      <td>Jeffrey Rogers</td>\n",
              "      <td>Buhari</td>\n",
              "      <td>Bluetooth Keyboard</td>\n",
              "      <td>2</td>\n",
              "      <td>100.0</td>\n",
              "    </tr>\n",
              "    <tr>\n",
              "      <th>4</th>\n",
              "      <td>2020-10-14</td>\n",
              "      <td>719</td>\n",
              "      <td>Johnny Bauer</td>\n",
              "      <td>Andiswa</td>\n",
              "      <td>External Hard Drive</td>\n",
              "      <td>2</td>\n",
              "      <td>120.0</td>\n",
              "    </tr>\n",
              "  </tbody>\n",
              "</table>\n",
              "</div>"
            ],
            "text/plain": [
              "         date  customer_id    customer_name salesperson              product  \\\n",
              "0  2019-04-03          655      Scott Perez       Segun               Laptop   \n",
              "1  2020-05-25          143  Patricia Warren     Andiswa   Bluetooth Keyboard   \n",
              "2  2020-01-22           33    Deborah White       James               Tablet   \n",
              "3  2023-06-29          617   Jeffrey Rogers      Buhari   Bluetooth Keyboard   \n",
              "4  2020-10-14          719     Johnny Bauer     Andiswa  External Hard Drive   \n",
              "\n",
              "   quantity  unit_price  \n",
              "0         3      1000.0  \n",
              "1         1       100.0  \n",
              "2         2       900.0  \n",
              "3         2       100.0  \n",
              "4         2       120.0  "
            ]
          },
          "execution_count": 31,
          "metadata": {},
          "output_type": "execute_result"
        }
      ],
      "source": [
        "# View first 5 rows\n",
        "explore_sales.head()"
      ]
    },
    {
      "cell_type": "code",
      "execution_count": 32,
      "id": "2Wt3nXeSIwpL",
      "metadata": {
        "id": "2Wt3nXeSIwpL"
      },
      "outputs": [
        {
          "data": {
            "text/html": [
              "<div>\n",
              "<style scoped>\n",
              "    .dataframe tbody tr th:only-of-type {\n",
              "        vertical-align: middle;\n",
              "    }\n",
              "\n",
              "    .dataframe tbody tr th {\n",
              "        vertical-align: top;\n",
              "    }\n",
              "\n",
              "    .dataframe thead th {\n",
              "        text-align: right;\n",
              "    }\n",
              "</style>\n",
              "<table border=\"1\" class=\"dataframe\">\n",
              "  <thead>\n",
              "    <tr style=\"text-align: right;\">\n",
              "      <th></th>\n",
              "      <th>date</th>\n",
              "      <th>customer_id</th>\n",
              "      <th>customer_name</th>\n",
              "      <th>salesperson</th>\n",
              "      <th>product</th>\n",
              "      <th>quantity</th>\n",
              "      <th>unit_price</th>\n",
              "    </tr>\n",
              "  </thead>\n",
              "  <tbody>\n",
              "    <tr>\n",
              "      <th>0</th>\n",
              "      <td>2019-04-03</td>\n",
              "      <td>655</td>\n",
              "      <td>Scott Perez</td>\n",
              "      <td>Segun</td>\n",
              "      <td>Laptop</td>\n",
              "      <td>3</td>\n",
              "      <td>1000.0</td>\n",
              "    </tr>\n",
              "    <tr>\n",
              "      <th>1</th>\n",
              "      <td>2020-05-25</td>\n",
              "      <td>143</td>\n",
              "      <td>Patricia Warren</td>\n",
              "      <td>Andiswa</td>\n",
              "      <td>Bluetooth Keyboard</td>\n",
              "      <td>1</td>\n",
              "      <td>100.0</td>\n",
              "    </tr>\n",
              "    <tr>\n",
              "      <th>2</th>\n",
              "      <td>2020-01-22</td>\n",
              "      <td>33</td>\n",
              "      <td>Deborah White</td>\n",
              "      <td>James</td>\n",
              "      <td>Tablet</td>\n",
              "      <td>2</td>\n",
              "      <td>900.0</td>\n",
              "    </tr>\n",
              "    <tr>\n",
              "      <th>3</th>\n",
              "      <td>2023-06-29</td>\n",
              "      <td>617</td>\n",
              "      <td>Jeffrey Rogers</td>\n",
              "      <td>Buhari</td>\n",
              "      <td>Bluetooth Keyboard</td>\n",
              "      <td>2</td>\n",
              "      <td>100.0</td>\n",
              "    </tr>\n",
              "    <tr>\n",
              "      <th>4</th>\n",
              "      <td>2020-10-14</td>\n",
              "      <td>719</td>\n",
              "      <td>Johnny Bauer</td>\n",
              "      <td>Andiswa</td>\n",
              "      <td>External Hard Drive</td>\n",
              "      <td>2</td>\n",
              "      <td>120.0</td>\n",
              "    </tr>\n",
              "    <tr>\n",
              "      <th>5</th>\n",
              "      <td>2023-02-03</td>\n",
              "      <td>285</td>\n",
              "      <td>Lindsay Banks</td>\n",
              "      <td>Buhari</td>\n",
              "      <td>Headphones</td>\n",
              "      <td>4</td>\n",
              "      <td>50.0</td>\n",
              "    </tr>\n",
              "    <tr>\n",
              "      <th>6</th>\n",
              "      <td>2023-10-24</td>\n",
              "      <td>160</td>\n",
              "      <td>Bobby Knight</td>\n",
              "      <td>Edmund</td>\n",
              "      <td>VR Headset</td>\n",
              "      <td>1</td>\n",
              "      <td>500.0</td>\n",
              "    </tr>\n",
              "    <tr>\n",
              "      <th>7</th>\n",
              "      <td>2019-09-25</td>\n",
              "      <td>100</td>\n",
              "      <td>Frank Fischer</td>\n",
              "      <td>Zolile</td>\n",
              "      <td>Portable Speaker</td>\n",
              "      <td>5</td>\n",
              "      <td>230.0</td>\n",
              "    </tr>\n",
              "    <tr>\n",
              "      <th>8</th>\n",
              "      <td>2023-09-30</td>\n",
              "      <td>45</td>\n",
              "      <td>Cameron Moody</td>\n",
              "      <td>Nolo</td>\n",
              "      <td>Bluetooth Keyboard</td>\n",
              "      <td>1</td>\n",
              "      <td>100.0</td>\n",
              "    </tr>\n",
              "    <tr>\n",
              "      <th>9</th>\n",
              "      <td>2022-03-16</td>\n",
              "      <td>388</td>\n",
              "      <td>Monica Rivera</td>\n",
              "      <td>Oludare</td>\n",
              "      <td>Bluetooth Keyboard</td>\n",
              "      <td>3</td>\n",
              "      <td>100.0</td>\n",
              "    </tr>\n",
              "  </tbody>\n",
              "</table>\n",
              "</div>"
            ],
            "text/plain": [
              "         date  customer_id    customer_name salesperson              product  \\\n",
              "0  2019-04-03          655      Scott Perez       Segun               Laptop   \n",
              "1  2020-05-25          143  Patricia Warren     Andiswa   Bluetooth Keyboard   \n",
              "2  2020-01-22           33    Deborah White       James               Tablet   \n",
              "3  2023-06-29          617   Jeffrey Rogers      Buhari   Bluetooth Keyboard   \n",
              "4  2020-10-14          719     Johnny Bauer     Andiswa  External Hard Drive   \n",
              "5  2023-02-03          285    Lindsay Banks      Buhari           Headphones   \n",
              "6  2023-10-24          160     Bobby Knight      Edmund           VR Headset   \n",
              "7  2019-09-25          100    Frank Fischer      Zolile     Portable Speaker   \n",
              "8  2023-09-30           45    Cameron Moody        Nolo   Bluetooth Keyboard   \n",
              "9  2022-03-16          388    Monica Rivera     Oludare   Bluetooth Keyboard   \n",
              "\n",
              "   quantity  unit_price  \n",
              "0         3      1000.0  \n",
              "1         1       100.0  \n",
              "2         2       900.0  \n",
              "3         2       100.0  \n",
              "4         2       120.0  \n",
              "5         4        50.0  \n",
              "6         1       500.0  \n",
              "7         5       230.0  \n",
              "8         1       100.0  \n",
              "9         3       100.0  "
            ]
          },
          "execution_count": 32,
          "metadata": {},
          "output_type": "execute_result"
        }
      ],
      "source": [
        "# View first 10 rows\n",
        "explore_sales.head(10)"
      ]
    },
    {
      "cell_type": "code",
      "execution_count": 33,
      "id": "q-U_IhXUIwsg",
      "metadata": {
        "id": "q-U_IhXUIwsg"
      },
      "outputs": [
        {
          "data": {
            "text/html": [
              "<div>\n",
              "<style scoped>\n",
              "    .dataframe tbody tr th:only-of-type {\n",
              "        vertical-align: middle;\n",
              "    }\n",
              "\n",
              "    .dataframe tbody tr th {\n",
              "        vertical-align: top;\n",
              "    }\n",
              "\n",
              "    .dataframe thead th {\n",
              "        text-align: right;\n",
              "    }\n",
              "</style>\n",
              "<table border=\"1\" class=\"dataframe\">\n",
              "  <thead>\n",
              "    <tr style=\"text-align: right;\">\n",
              "      <th></th>\n",
              "      <th>date</th>\n",
              "      <th>customer_id</th>\n",
              "      <th>customer_name</th>\n",
              "      <th>salesperson</th>\n",
              "      <th>product</th>\n",
              "      <th>quantity</th>\n",
              "      <th>unit_price</th>\n",
              "    </tr>\n",
              "  </thead>\n",
              "  <tbody>\n",
              "    <tr>\n",
              "      <th>1995</th>\n",
              "      <td>2021-05-18</td>\n",
              "      <td>675</td>\n",
              "      <td>Alyssa Burns</td>\n",
              "      <td>Mbali</td>\n",
              "      <td>Smart Home Hub</td>\n",
              "      <td>3</td>\n",
              "      <td>200.0</td>\n",
              "    </tr>\n",
              "    <tr>\n",
              "      <th>1996</th>\n",
              "      <td>2022-01-05</td>\n",
              "      <td>771</td>\n",
              "      <td>Scott Wagner</td>\n",
              "      <td>Segun</td>\n",
              "      <td>Desktop Computer</td>\n",
              "      <td>5</td>\n",
              "      <td>1200.0</td>\n",
              "    </tr>\n",
              "    <tr>\n",
              "      <th>1997</th>\n",
              "      <td>2019-10-22</td>\n",
              "      <td>353</td>\n",
              "      <td>Barbara Sheppard</td>\n",
              "      <td>Oludare</td>\n",
              "      <td>Gaming Console</td>\n",
              "      <td>2</td>\n",
              "      <td>987.0</td>\n",
              "    </tr>\n",
              "    <tr>\n",
              "      <th>1998</th>\n",
              "      <td>2020-10-31</td>\n",
              "      <td>408</td>\n",
              "      <td>Monica Jenkins MD</td>\n",
              "      <td>James</td>\n",
              "      <td>Laptop</td>\n",
              "      <td>2</td>\n",
              "      <td>1000.0</td>\n",
              "    </tr>\n",
              "    <tr>\n",
              "      <th>1999</th>\n",
              "      <td>2022-11-22</td>\n",
              "      <td>2</td>\n",
              "      <td>Danielle Olson</td>\n",
              "      <td>Segun</td>\n",
              "      <td>Tablet</td>\n",
              "      <td>4</td>\n",
              "      <td>900.0</td>\n",
              "    </tr>\n",
              "  </tbody>\n",
              "</table>\n",
              "</div>"
            ],
            "text/plain": [
              "            date  customer_id      customer_name salesperson  \\\n",
              "1995  2021-05-18          675       Alyssa Burns       Mbali   \n",
              "1996  2022-01-05          771       Scott Wagner       Segun   \n",
              "1997  2019-10-22          353   Barbara Sheppard     Oludare   \n",
              "1998  2020-10-31          408  Monica Jenkins MD       James   \n",
              "1999  2022-11-22            2     Danielle Olson       Segun   \n",
              "\n",
              "               product  quantity  unit_price  \n",
              "1995    Smart Home Hub         3       200.0  \n",
              "1996  Desktop Computer         5      1200.0  \n",
              "1997    Gaming Console         2       987.0  \n",
              "1998            Laptop         2      1000.0  \n",
              "1999            Tablet         4       900.0  "
            ]
          },
          "execution_count": 33,
          "metadata": {},
          "output_type": "execute_result"
        }
      ],
      "source": [
        "# View last 5 rows\n",
        "explore_sales.tail()"
      ]
    },
    {
      "cell_type": "markdown",
      "id": "Iflwha_eV4BT",
      "metadata": {
        "id": "Iflwha_eV4BT"
      },
      "source": [
        "**Shape of the dataset**"
      ]
    },
    {
      "cell_type": "code",
      "execution_count": 34,
      "id": "rZbszC2NIwvw",
      "metadata": {
        "id": "rZbszC2NIwvw"
      },
      "outputs": [
        {
          "data": {
            "text/plain": [
              "(2000, 7)"
            ]
          },
          "execution_count": 34,
          "metadata": {},
          "output_type": "execute_result"
        }
      ],
      "source": [
        "# View shape of the dataset\n",
        "explore_sales.shape"
      ]
    },
    {
      "cell_type": "markdown",
      "id": "8f_Rjn-pWRKN",
      "metadata": {
        "id": "8f_Rjn-pWRKN"
      },
      "source": [
        "**Metadata of the dataset**"
      ]
    },
    {
      "cell_type": "code",
      "execution_count": 35,
      "id": "9h0qYOIWJZNF",
      "metadata": {
        "id": "9h0qYOIWJZNF"
      },
      "outputs": [
        {
          "name": "stdout",
          "output_type": "stream",
          "text": [
            "<class 'pandas.core.frame.DataFrame'>\n",
            "RangeIndex: 2000 entries, 0 to 1999\n",
            "Data columns (total 7 columns):\n",
            " #   Column         Non-Null Count  Dtype  \n",
            "---  ------         --------------  -----  \n",
            " 0   date           2000 non-null   object \n",
            " 1   customer_id    2000 non-null   int64  \n",
            " 2   customer_name  2000 non-null   object \n",
            " 3   salesperson    2000 non-null   object \n",
            " 4   product        1988 non-null   object \n",
            " 5   quantity       2000 non-null   int64  \n",
            " 6   unit_price     1988 non-null   float64\n",
            "dtypes: float64(1), int64(2), object(4)\n",
            "memory usage: 109.5+ KB\n"
          ]
        }
      ],
      "source": [
        "explore_sales.info()"
      ]
    },
    {
      "cell_type": "markdown",
      "id": "hUptYct9uUnH",
      "metadata": {
        "id": "hUptYct9uUnH"
      },
      "source": [
        "**View rows with null values**"
      ]
    },
    {
      "cell_type": "code",
      "execution_count": 36,
      "id": "u-vsqOCtDcd8",
      "metadata": {
        "id": "u-vsqOCtDcd8"
      },
      "outputs": [
        {
          "data": {
            "text/html": [
              "<div>\n",
              "<style scoped>\n",
              "    .dataframe tbody tr th:only-of-type {\n",
              "        vertical-align: middle;\n",
              "    }\n",
              "\n",
              "    .dataframe tbody tr th {\n",
              "        vertical-align: top;\n",
              "    }\n",
              "\n",
              "    .dataframe thead th {\n",
              "        text-align: right;\n",
              "    }\n",
              "</style>\n",
              "<table border=\"1\" class=\"dataframe\">\n",
              "  <thead>\n",
              "    <tr style=\"text-align: right;\">\n",
              "      <th></th>\n",
              "      <th>date</th>\n",
              "      <th>customer_id</th>\n",
              "      <th>customer_name</th>\n",
              "      <th>salesperson</th>\n",
              "      <th>product</th>\n",
              "      <th>quantity</th>\n",
              "      <th>unit_price</th>\n",
              "    </tr>\n",
              "  </thead>\n",
              "  <tbody>\n",
              "    <tr>\n",
              "      <th>15</th>\n",
              "      <td>2023-09-11</td>\n",
              "      <td>547</td>\n",
              "      <td>Zachary Nelson</td>\n",
              "      <td>Edmund</td>\n",
              "      <td>NaN</td>\n",
              "      <td>4</td>\n",
              "      <td>NaN</td>\n",
              "    </tr>\n",
              "    <tr>\n",
              "      <th>17</th>\n",
              "      <td>2022-02-01</td>\n",
              "      <td>795</td>\n",
              "      <td>Tammy Park</td>\n",
              "      <td>Buhari</td>\n",
              "      <td>NaN</td>\n",
              "      <td>1</td>\n",
              "      <td>NaN</td>\n",
              "    </tr>\n",
              "    <tr>\n",
              "      <th>25</th>\n",
              "      <td>2020-08-04</td>\n",
              "      <td>433</td>\n",
              "      <td>Sara Burns</td>\n",
              "      <td>Segun</td>\n",
              "      <td>NaN</td>\n",
              "      <td>4</td>\n",
              "      <td>NaN</td>\n",
              "    </tr>\n",
              "    <tr>\n",
              "      <th>30</th>\n",
              "      <td>2021-08-24</td>\n",
              "      <td>109</td>\n",
              "      <td>Jackie Burns</td>\n",
              "      <td>James</td>\n",
              "      <td>NaN</td>\n",
              "      <td>5</td>\n",
              "      <td>NaN</td>\n",
              "    </tr>\n",
              "    <tr>\n",
              "      <th>32</th>\n",
              "      <td>2021-05-04</td>\n",
              "      <td>614</td>\n",
              "      <td>Adam Harris</td>\n",
              "      <td>Zolile</td>\n",
              "      <td>NaN</td>\n",
              "      <td>1</td>\n",
              "      <td>NaN</td>\n",
              "    </tr>\n",
              "    <tr>\n",
              "      <th>37</th>\n",
              "      <td>2020-12-17</td>\n",
              "      <td>622</td>\n",
              "      <td>Tanya Palmer</td>\n",
              "      <td>Mbali</td>\n",
              "      <td>NaN</td>\n",
              "      <td>5</td>\n",
              "      <td>NaN</td>\n",
              "    </tr>\n",
              "    <tr>\n",
              "      <th>42</th>\n",
              "      <td>2020-11-28</td>\n",
              "      <td>725</td>\n",
              "      <td>Lisa Harris</td>\n",
              "      <td>Buhari</td>\n",
              "      <td>NaN</td>\n",
              "      <td>1</td>\n",
              "      <td>NaN</td>\n",
              "    </tr>\n",
              "    <tr>\n",
              "      <th>60</th>\n",
              "      <td>2022-09-08</td>\n",
              "      <td>83</td>\n",
              "      <td>Dawn Hayes MD</td>\n",
              "      <td>Oludare</td>\n",
              "      <td>NaN</td>\n",
              "      <td>5</td>\n",
              "      <td>NaN</td>\n",
              "    </tr>\n",
              "    <tr>\n",
              "      <th>80</th>\n",
              "      <td>2020-01-31</td>\n",
              "      <td>597</td>\n",
              "      <td>Leslie Brock</td>\n",
              "      <td>Andiswa</td>\n",
              "      <td>NaN</td>\n",
              "      <td>4</td>\n",
              "      <td>NaN</td>\n",
              "    </tr>\n",
              "    <tr>\n",
              "      <th>107</th>\n",
              "      <td>2022-01-30</td>\n",
              "      <td>151</td>\n",
              "      <td>Alexandria Armstrong</td>\n",
              "      <td>Buhari</td>\n",
              "      <td>NaN</td>\n",
              "      <td>2</td>\n",
              "      <td>NaN</td>\n",
              "    </tr>\n",
              "    <tr>\n",
              "      <th>108</th>\n",
              "      <td>2020-12-02</td>\n",
              "      <td>626</td>\n",
              "      <td>Dean Hamilton</td>\n",
              "      <td>Segun</td>\n",
              "      <td>NaN</td>\n",
              "      <td>4</td>\n",
              "      <td>NaN</td>\n",
              "    </tr>\n",
              "    <tr>\n",
              "      <th>127</th>\n",
              "      <td>2019-10-11</td>\n",
              "      <td>818</td>\n",
              "      <td>Anthony White</td>\n",
              "      <td>Mbali</td>\n",
              "      <td>NaN</td>\n",
              "      <td>4</td>\n",
              "      <td>NaN</td>\n",
              "    </tr>\n",
              "  </tbody>\n",
              "</table>\n",
              "</div>"
            ],
            "text/plain": [
              "           date  customer_id         customer_name salesperson product  \\\n",
              "15   2023-09-11          547        Zachary Nelson      Edmund     NaN   \n",
              "17   2022-02-01          795            Tammy Park      Buhari     NaN   \n",
              "25   2020-08-04          433            Sara Burns       Segun     NaN   \n",
              "30   2021-08-24          109          Jackie Burns       James     NaN   \n",
              "32   2021-05-04          614           Adam Harris      Zolile     NaN   \n",
              "37   2020-12-17          622          Tanya Palmer       Mbali     NaN   \n",
              "42   2020-11-28          725           Lisa Harris      Buhari     NaN   \n",
              "60   2022-09-08           83         Dawn Hayes MD     Oludare     NaN   \n",
              "80   2020-01-31          597          Leslie Brock     Andiswa     NaN   \n",
              "107  2022-01-30          151  Alexandria Armstrong      Buhari     NaN   \n",
              "108  2020-12-02          626         Dean Hamilton       Segun     NaN   \n",
              "127  2019-10-11          818         Anthony White       Mbali     NaN   \n",
              "\n",
              "     quantity  unit_price  \n",
              "15          4         NaN  \n",
              "17          1         NaN  \n",
              "25          4         NaN  \n",
              "30          5         NaN  \n",
              "32          1         NaN  \n",
              "37          5         NaN  \n",
              "42          1         NaN  \n",
              "60          5         NaN  \n",
              "80          4         NaN  \n",
              "107         2         NaN  \n",
              "108         4         NaN  \n",
              "127         4         NaN  "
            ]
          },
          "execution_count": 36,
          "metadata": {},
          "output_type": "execute_result"
        }
      ],
      "source": [
        "# View nulls\n",
        "null_mask = explore_sales['product'].isna()\n",
        "explore_sales[null_mask]"
      ]
    },
    {
      "cell_type": "code",
      "execution_count": 37,
      "id": "bayIId3-yeok",
      "metadata": {
        "id": "bayIId3-yeok"
      },
      "outputs": [],
      "source": [
        "# Drop nulls\n",
        "explore_sales.dropna(inplace=True)"
      ]
    },
    {
      "cell_type": "code",
      "execution_count": 38,
      "id": "dbac4980",
      "metadata": {},
      "outputs": [
        {
          "data": {
            "text/plain": [
              "(1988, 7)"
            ]
          },
          "execution_count": 38,
          "metadata": {},
          "output_type": "execute_result"
        }
      ],
      "source": [
        "explore_sales.shape"
      ]
    },
    {
      "cell_type": "code",
      "execution_count": 42,
      "id": "VbyBM8hs7kEX",
      "metadata": {
        "id": "VbyBM8hs7kEX"
      },
      "outputs": [],
      "source": [
        "# Drop customer_id\n",
        "explore_sales.drop(columns=\"customer_id\", inplace=True)"
      ]
    },
    {
      "cell_type": "code",
      "execution_count": 43,
      "id": "VyTnYKmt13p7",
      "metadata": {
        "id": "VyTnYKmt13p7"
      },
      "outputs": [
        {
          "data": {
            "text/html": [
              "<div>\n",
              "<style scoped>\n",
              "    .dataframe tbody tr th:only-of-type {\n",
              "        vertical-align: middle;\n",
              "    }\n",
              "\n",
              "    .dataframe tbody tr th {\n",
              "        vertical-align: top;\n",
              "    }\n",
              "\n",
              "    .dataframe thead th {\n",
              "        text-align: right;\n",
              "    }\n",
              "</style>\n",
              "<table border=\"1\" class=\"dataframe\">\n",
              "  <thead>\n",
              "    <tr style=\"text-align: right;\">\n",
              "      <th></th>\n",
              "      <th>date</th>\n",
              "      <th>customer_name</th>\n",
              "      <th>salesperson</th>\n",
              "      <th>product</th>\n",
              "      <th>quantity</th>\n",
              "      <th>unit_price</th>\n",
              "    </tr>\n",
              "  </thead>\n",
              "  <tbody>\n",
              "    <tr>\n",
              "      <th>0</th>\n",
              "      <td>2019-04-03</td>\n",
              "      <td>Scott Perez</td>\n",
              "      <td>Segun</td>\n",
              "      <td>Laptop</td>\n",
              "      <td>3</td>\n",
              "      <td>1000.0</td>\n",
              "    </tr>\n",
              "    <tr>\n",
              "      <th>1</th>\n",
              "      <td>2020-05-25</td>\n",
              "      <td>Patricia Warren</td>\n",
              "      <td>Andiswa</td>\n",
              "      <td>Bluetooth Keyboard</td>\n",
              "      <td>1</td>\n",
              "      <td>100.0</td>\n",
              "    </tr>\n",
              "    <tr>\n",
              "      <th>2</th>\n",
              "      <td>2020-01-22</td>\n",
              "      <td>Deborah White</td>\n",
              "      <td>James</td>\n",
              "      <td>Tablet</td>\n",
              "      <td>2</td>\n",
              "      <td>900.0</td>\n",
              "    </tr>\n",
              "    <tr>\n",
              "      <th>3</th>\n",
              "      <td>2023-06-29</td>\n",
              "      <td>Jeffrey Rogers</td>\n",
              "      <td>Buhari</td>\n",
              "      <td>Bluetooth Keyboard</td>\n",
              "      <td>2</td>\n",
              "      <td>100.0</td>\n",
              "    </tr>\n",
              "    <tr>\n",
              "      <th>4</th>\n",
              "      <td>2020-10-14</td>\n",
              "      <td>Johnny Bauer</td>\n",
              "      <td>Andiswa</td>\n",
              "      <td>External Hard Drive</td>\n",
              "      <td>2</td>\n",
              "      <td>120.0</td>\n",
              "    </tr>\n",
              "    <tr>\n",
              "      <th>...</th>\n",
              "      <td>...</td>\n",
              "      <td>...</td>\n",
              "      <td>...</td>\n",
              "      <td>...</td>\n",
              "      <td>...</td>\n",
              "      <td>...</td>\n",
              "    </tr>\n",
              "    <tr>\n",
              "      <th>1995</th>\n",
              "      <td>2021-05-18</td>\n",
              "      <td>Alyssa Burns</td>\n",
              "      <td>Mbali</td>\n",
              "      <td>Smart Home Hub</td>\n",
              "      <td>3</td>\n",
              "      <td>200.0</td>\n",
              "    </tr>\n",
              "    <tr>\n",
              "      <th>1996</th>\n",
              "      <td>2022-01-05</td>\n",
              "      <td>Scott Wagner</td>\n",
              "      <td>Segun</td>\n",
              "      <td>Desktop Computer</td>\n",
              "      <td>5</td>\n",
              "      <td>1200.0</td>\n",
              "    </tr>\n",
              "    <tr>\n",
              "      <th>1997</th>\n",
              "      <td>2019-10-22</td>\n",
              "      <td>Barbara Sheppard</td>\n",
              "      <td>Oludare</td>\n",
              "      <td>Gaming Console</td>\n",
              "      <td>2</td>\n",
              "      <td>987.0</td>\n",
              "    </tr>\n",
              "    <tr>\n",
              "      <th>1998</th>\n",
              "      <td>2020-10-31</td>\n",
              "      <td>Monica Jenkins MD</td>\n",
              "      <td>James</td>\n",
              "      <td>Laptop</td>\n",
              "      <td>2</td>\n",
              "      <td>1000.0</td>\n",
              "    </tr>\n",
              "    <tr>\n",
              "      <th>1999</th>\n",
              "      <td>2022-11-22</td>\n",
              "      <td>Danielle Olson</td>\n",
              "      <td>Segun</td>\n",
              "      <td>Tablet</td>\n",
              "      <td>4</td>\n",
              "      <td>900.0</td>\n",
              "    </tr>\n",
              "  </tbody>\n",
              "</table>\n",
              "<p>1988 rows × 6 columns</p>\n",
              "</div>"
            ],
            "text/plain": [
              "            date      customer_name salesperson              product  \\\n",
              "0     2019-04-03        Scott Perez       Segun               Laptop   \n",
              "1     2020-05-25    Patricia Warren     Andiswa   Bluetooth Keyboard   \n",
              "2     2020-01-22      Deborah White       James               Tablet   \n",
              "3     2023-06-29     Jeffrey Rogers      Buhari   Bluetooth Keyboard   \n",
              "4     2020-10-14       Johnny Bauer     Andiswa  External Hard Drive   \n",
              "...          ...                ...         ...                  ...   \n",
              "1995  2021-05-18       Alyssa Burns       Mbali       Smart Home Hub   \n",
              "1996  2022-01-05       Scott Wagner       Segun     Desktop Computer   \n",
              "1997  2019-10-22   Barbara Sheppard     Oludare       Gaming Console   \n",
              "1998  2020-10-31  Monica Jenkins MD       James               Laptop   \n",
              "1999  2022-11-22     Danielle Olson       Segun               Tablet   \n",
              "\n",
              "      quantity  unit_price  \n",
              "0            3      1000.0  \n",
              "1            1       100.0  \n",
              "2            2       900.0  \n",
              "3            2       100.0  \n",
              "4            2       120.0  \n",
              "...        ...         ...  \n",
              "1995         3       200.0  \n",
              "1996         5      1200.0  \n",
              "1997         2       987.0  \n",
              "1998         2      1000.0  \n",
              "1999         4       900.0  \n",
              "\n",
              "[1988 rows x 6 columns]"
            ]
          },
          "execution_count": 43,
          "metadata": {},
          "output_type": "execute_result"
        }
      ],
      "source": [
        "explore_sales"
      ]
    },
    {
      "cell_type": "markdown",
      "id": "y1TB_lrrYjdf",
      "metadata": {
        "id": "y1TB_lrrYjdf"
      },
      "source": [
        "**Dataframe elements**\n",
        "\n",
        "The elements of a dataframe are columns, index and values."
      ]
    },
    {
      "cell_type": "code",
      "execution_count": 44,
      "id": "_JVbmcNrJZRB",
      "metadata": {
        "id": "_JVbmcNrJZRB"
      },
      "outputs": [
        {
          "data": {
            "text/plain": [
              "Index(['date', 'customer_name', 'salesperson', 'product', 'quantity',\n",
              "       'unit_price'],\n",
              "      dtype='object')"
            ]
          },
          "execution_count": 44,
          "metadata": {},
          "output_type": "execute_result"
        }
      ],
      "source": [
        "# View column names\n",
        "explore_sales.columns"
      ]
    },
    {
      "cell_type": "code",
      "execution_count": 45,
      "id": "Bxyx6l6uIwzX",
      "metadata": {
        "id": "Bxyx6l6uIwzX"
      },
      "outputs": [
        {
          "data": {
            "text/plain": [
              "Index([   0,    1,    2,    3,    4,    5,    6,    7,    8,    9,\n",
              "       ...\n",
              "       1990, 1991, 1992, 1993, 1994, 1995, 1996, 1997, 1998, 1999],\n",
              "      dtype='int64', length=1988)"
            ]
          },
          "execution_count": 45,
          "metadata": {},
          "output_type": "execute_result"
        }
      ],
      "source": [
        "# View the index\n",
        "explore_sales.index"
      ]
    },
    {
      "cell_type": "code",
      "execution_count": 46,
      "id": "DLw0ZTCnM_l8",
      "metadata": {
        "id": "DLw0ZTCnM_l8"
      },
      "outputs": [
        {
          "data": {
            "text/plain": [
              "array([['2019-04-03', 'Scott Perez', 'Segun', 'Laptop', 3, 1000.0],\n",
              "       ['2020-05-25', 'Patricia Warren', 'Andiswa', 'Bluetooth Keyboard',\n",
              "        1, 100.0],\n",
              "       ['2020-01-22', 'Deborah White', 'James', 'Tablet', 2, 900.0],\n",
              "       ...,\n",
              "       ['2019-10-22', 'Barbara Sheppard', 'Oludare', 'Gaming Console', 2,\n",
              "        987.0],\n",
              "       ['2020-10-31', 'Monica Jenkins MD', 'James', 'Laptop', 2, 1000.0],\n",
              "       ['2022-11-22', 'Danielle Olson', 'Segun', 'Tablet', 4, 900.0]],\n",
              "      dtype=object)"
            ]
          },
          "execution_count": 46,
          "metadata": {},
          "output_type": "execute_result"
        }
      ],
      "source": [
        "# View the values\n",
        "explore_sales.values"
      ]
    },
    {
      "cell_type": "markdown",
      "id": "GrxbqEitaBi2",
      "metadata": {
        "id": "GrxbqEitaBi2"
      },
      "source": [
        "**Feature Engineering**"
      ]
    },
    {
      "cell_type": "code",
      "execution_count": 47,
      "id": "90747H7Uayjb",
      "metadata": {
        "id": "90747H7Uayjb"
      },
      "outputs": [],
      "source": [
        "# Create total_price column\n",
        "explore_sales['total_price'] = explore_sales['quantity'] * explore_sales['unit_price']"
      ]
    },
    {
      "cell_type": "code",
      "execution_count": 48,
      "id": "SWwkeuvLbNZS",
      "metadata": {
        "id": "SWwkeuvLbNZS"
      },
      "outputs": [
        {
          "data": {
            "text/html": [
              "<div>\n",
              "<style scoped>\n",
              "    .dataframe tbody tr th:only-of-type {\n",
              "        vertical-align: middle;\n",
              "    }\n",
              "\n",
              "    .dataframe tbody tr th {\n",
              "        vertical-align: top;\n",
              "    }\n",
              "\n",
              "    .dataframe thead th {\n",
              "        text-align: right;\n",
              "    }\n",
              "</style>\n",
              "<table border=\"1\" class=\"dataframe\">\n",
              "  <thead>\n",
              "    <tr style=\"text-align: right;\">\n",
              "      <th></th>\n",
              "      <th>date</th>\n",
              "      <th>customer_name</th>\n",
              "      <th>salesperson</th>\n",
              "      <th>product</th>\n",
              "      <th>quantity</th>\n",
              "      <th>unit_price</th>\n",
              "      <th>total_price</th>\n",
              "    </tr>\n",
              "  </thead>\n",
              "  <tbody>\n",
              "    <tr>\n",
              "      <th>0</th>\n",
              "      <td>2019-04-03</td>\n",
              "      <td>Scott Perez</td>\n",
              "      <td>Segun</td>\n",
              "      <td>Laptop</td>\n",
              "      <td>3</td>\n",
              "      <td>1000.0</td>\n",
              "      <td>3000.0</td>\n",
              "    </tr>\n",
              "    <tr>\n",
              "      <th>1</th>\n",
              "      <td>2020-05-25</td>\n",
              "      <td>Patricia Warren</td>\n",
              "      <td>Andiswa</td>\n",
              "      <td>Bluetooth Keyboard</td>\n",
              "      <td>1</td>\n",
              "      <td>100.0</td>\n",
              "      <td>100.0</td>\n",
              "    </tr>\n",
              "    <tr>\n",
              "      <th>2</th>\n",
              "      <td>2020-01-22</td>\n",
              "      <td>Deborah White</td>\n",
              "      <td>James</td>\n",
              "      <td>Tablet</td>\n",
              "      <td>2</td>\n",
              "      <td>900.0</td>\n",
              "      <td>1800.0</td>\n",
              "    </tr>\n",
              "    <tr>\n",
              "      <th>3</th>\n",
              "      <td>2023-06-29</td>\n",
              "      <td>Jeffrey Rogers</td>\n",
              "      <td>Buhari</td>\n",
              "      <td>Bluetooth Keyboard</td>\n",
              "      <td>2</td>\n",
              "      <td>100.0</td>\n",
              "      <td>200.0</td>\n",
              "    </tr>\n",
              "    <tr>\n",
              "      <th>4</th>\n",
              "      <td>2020-10-14</td>\n",
              "      <td>Johnny Bauer</td>\n",
              "      <td>Andiswa</td>\n",
              "      <td>External Hard Drive</td>\n",
              "      <td>2</td>\n",
              "      <td>120.0</td>\n",
              "      <td>240.0</td>\n",
              "    </tr>\n",
              "  </tbody>\n",
              "</table>\n",
              "</div>"
            ],
            "text/plain": [
              "         date    customer_name salesperson              product  quantity  \\\n",
              "0  2019-04-03      Scott Perez       Segun               Laptop         3   \n",
              "1  2020-05-25  Patricia Warren     Andiswa   Bluetooth Keyboard         1   \n",
              "2  2020-01-22    Deborah White       James               Tablet         2   \n",
              "3  2023-06-29   Jeffrey Rogers      Buhari   Bluetooth Keyboard         2   \n",
              "4  2020-10-14     Johnny Bauer     Andiswa  External Hard Drive         2   \n",
              "\n",
              "   unit_price  total_price  \n",
              "0      1000.0       3000.0  \n",
              "1       100.0        100.0  \n",
              "2       900.0       1800.0  \n",
              "3       100.0        200.0  \n",
              "4       120.0        240.0  "
            ]
          },
          "execution_count": 48,
          "metadata": {},
          "output_type": "execute_result"
        }
      ],
      "source": [
        "# View first 5 rows\n",
        "explore_sales.head()"
      ]
    },
    {
      "cell_type": "markdown",
      "id": "y6Jb2eYooLfe",
      "metadata": {
        "id": "y6Jb2eYooLfe"
      },
      "source": [
        "Create year column"
      ]
    },
    {
      "cell_type": "code",
      "execution_count": 49,
      "id": "dVoD_wmZM_15",
      "metadata": {
        "id": "dVoD_wmZM_15"
      },
      "outputs": [],
      "source": [
        "# Convert date column to datetime type\n",
        "explore_sales['date'] = pd.to_datetime(explore_sales['date'])"
      ]
    },
    {
      "cell_type": "code",
      "execution_count": 51,
      "id": "89c9ac71",
      "metadata": {},
      "outputs": [
        {
          "name": "stdout",
          "output_type": "stream",
          "text": [
            "<class 'pandas.core.frame.DataFrame'>\n",
            "Index: 1988 entries, 0 to 1999\n",
            "Data columns (total 7 columns):\n",
            " #   Column         Non-Null Count  Dtype         \n",
            "---  ------         --------------  -----         \n",
            " 0   date           1988 non-null   datetime64[ns]\n",
            " 1   customer_name  1988 non-null   object        \n",
            " 2   salesperson    1988 non-null   object        \n",
            " 3   product        1988 non-null   object        \n",
            " 4   quantity       1988 non-null   int64         \n",
            " 5   unit_price     1988 non-null   float64       \n",
            " 6   total_price    1988 non-null   float64       \n",
            "dtypes: datetime64[ns](1), float64(2), int64(1), object(3)\n",
            "memory usage: 124.2+ KB\n"
          ]
        }
      ],
      "source": [
        "explore_sales.info()"
      ]
    },
    {
      "cell_type": "code",
      "execution_count": 52,
      "id": "rz5uX19aaGMn",
      "metadata": {
        "id": "rz5uX19aaGMn"
      },
      "outputs": [],
      "source": [
        "# Create year column\n",
        "explore_sales['year'] = explore_sales['date'].dt.year"
      ]
    },
    {
      "cell_type": "code",
      "execution_count": 53,
      "id": "J9XDl8hBbYnr",
      "metadata": {
        "id": "J9XDl8hBbYnr"
      },
      "outputs": [
        {
          "data": {
            "text/html": [
              "<div>\n",
              "<style scoped>\n",
              "    .dataframe tbody tr th:only-of-type {\n",
              "        vertical-align: middle;\n",
              "    }\n",
              "\n",
              "    .dataframe tbody tr th {\n",
              "        vertical-align: top;\n",
              "    }\n",
              "\n",
              "    .dataframe thead th {\n",
              "        text-align: right;\n",
              "    }\n",
              "</style>\n",
              "<table border=\"1\" class=\"dataframe\">\n",
              "  <thead>\n",
              "    <tr style=\"text-align: right;\">\n",
              "      <th></th>\n",
              "      <th>date</th>\n",
              "      <th>customer_name</th>\n",
              "      <th>salesperson</th>\n",
              "      <th>product</th>\n",
              "      <th>quantity</th>\n",
              "      <th>unit_price</th>\n",
              "      <th>total_price</th>\n",
              "      <th>year</th>\n",
              "    </tr>\n",
              "  </thead>\n",
              "  <tbody>\n",
              "    <tr>\n",
              "      <th>0</th>\n",
              "      <td>2019-04-03</td>\n",
              "      <td>Scott Perez</td>\n",
              "      <td>Segun</td>\n",
              "      <td>Laptop</td>\n",
              "      <td>3</td>\n",
              "      <td>1000.0</td>\n",
              "      <td>3000.0</td>\n",
              "      <td>2019</td>\n",
              "    </tr>\n",
              "    <tr>\n",
              "      <th>1</th>\n",
              "      <td>2020-05-25</td>\n",
              "      <td>Patricia Warren</td>\n",
              "      <td>Andiswa</td>\n",
              "      <td>Bluetooth Keyboard</td>\n",
              "      <td>1</td>\n",
              "      <td>100.0</td>\n",
              "      <td>100.0</td>\n",
              "      <td>2020</td>\n",
              "    </tr>\n",
              "    <tr>\n",
              "      <th>2</th>\n",
              "      <td>2020-01-22</td>\n",
              "      <td>Deborah White</td>\n",
              "      <td>James</td>\n",
              "      <td>Tablet</td>\n",
              "      <td>2</td>\n",
              "      <td>900.0</td>\n",
              "      <td>1800.0</td>\n",
              "      <td>2020</td>\n",
              "    </tr>\n",
              "    <tr>\n",
              "      <th>3</th>\n",
              "      <td>2023-06-29</td>\n",
              "      <td>Jeffrey Rogers</td>\n",
              "      <td>Buhari</td>\n",
              "      <td>Bluetooth Keyboard</td>\n",
              "      <td>2</td>\n",
              "      <td>100.0</td>\n",
              "      <td>200.0</td>\n",
              "      <td>2023</td>\n",
              "    </tr>\n",
              "    <tr>\n",
              "      <th>4</th>\n",
              "      <td>2020-10-14</td>\n",
              "      <td>Johnny Bauer</td>\n",
              "      <td>Andiswa</td>\n",
              "      <td>External Hard Drive</td>\n",
              "      <td>2</td>\n",
              "      <td>120.0</td>\n",
              "      <td>240.0</td>\n",
              "      <td>2020</td>\n",
              "    </tr>\n",
              "  </tbody>\n",
              "</table>\n",
              "</div>"
            ],
            "text/plain": [
              "        date    customer_name salesperson              product  quantity  \\\n",
              "0 2019-04-03      Scott Perez       Segun               Laptop         3   \n",
              "1 2020-05-25  Patricia Warren     Andiswa   Bluetooth Keyboard         1   \n",
              "2 2020-01-22    Deborah White       James               Tablet         2   \n",
              "3 2023-06-29   Jeffrey Rogers      Buhari   Bluetooth Keyboard         2   \n",
              "4 2020-10-14     Johnny Bauer     Andiswa  External Hard Drive         2   \n",
              "\n",
              "   unit_price  total_price  year  \n",
              "0      1000.0       3000.0  2019  \n",
              "1       100.0        100.0  2020  \n",
              "2       900.0       1800.0  2020  \n",
              "3       100.0        200.0  2023  \n",
              "4       120.0        240.0  2020  "
            ]
          },
          "execution_count": 53,
          "metadata": {},
          "output_type": "execute_result"
        }
      ],
      "source": [
        "explore_sales.head()"
      ]
    },
    {
      "cell_type": "markdown",
      "id": "tWsGS6BalmLx",
      "metadata": {
        "id": "tWsGS6BalmLx"
      },
      "source": [
        "**Summary statistics (Aggregation)**"
      ]
    },
    {
      "cell_type": "code",
      "execution_count": 54,
      "id": "S23ysKm0m34E",
      "metadata": {
        "id": "S23ysKm0m34E"
      },
      "outputs": [
        {
          "data": {
            "text/plain": [
              "3096027.0"
            ]
          },
          "execution_count": 54,
          "metadata": {},
          "output_type": "execute_result"
        }
      ],
      "source": [
        "# Total sales to date\n",
        "explore_sales['total_price'].sum()"
      ]
    },
    {
      "cell_type": "code",
      "execution_count": 55,
      "id": "eoGeVe9qJZWB",
      "metadata": {
        "id": "eoGeVe9qJZWB"
      },
      "outputs": [
        {
          "data": {
            "text/html": [
              "<div>\n",
              "<style scoped>\n",
              "    .dataframe tbody tr th:only-of-type {\n",
              "        vertical-align: middle;\n",
              "    }\n",
              "\n",
              "    .dataframe tbody tr th {\n",
              "        vertical-align: top;\n",
              "    }\n",
              "\n",
              "    .dataframe thead th {\n",
              "        text-align: right;\n",
              "    }\n",
              "</style>\n",
              "<table border=\"1\" class=\"dataframe\">\n",
              "  <thead>\n",
              "    <tr style=\"text-align: right;\">\n",
              "      <th></th>\n",
              "      <th>date</th>\n",
              "      <th>quantity</th>\n",
              "      <th>unit_price</th>\n",
              "      <th>total_price</th>\n",
              "      <th>year</th>\n",
              "    </tr>\n",
              "  </thead>\n",
              "  <tbody>\n",
              "    <tr>\n",
              "      <th>count</th>\n",
              "      <td>1988</td>\n",
              "      <td>1988.000000</td>\n",
              "      <td>1988.000000</td>\n",
              "      <td>1988.000000</td>\n",
              "      <td>1988.000000</td>\n",
              "    </tr>\n",
              "    <tr>\n",
              "      <th>mean</th>\n",
              "      <td>2021-08-10 09:56:08.209255680</td>\n",
              "      <td>3.012575</td>\n",
              "      <td>520.332495</td>\n",
              "      <td>1557.357646</td>\n",
              "      <td>2021.095070</td>\n",
              "    </tr>\n",
              "    <tr>\n",
              "      <th>min</th>\n",
              "      <td>2019-01-31 00:00:00</td>\n",
              "      <td>1.000000</td>\n",
              "      <td>50.000000</td>\n",
              "      <td>50.000000</td>\n",
              "      <td>2019.000000</td>\n",
              "    </tr>\n",
              "    <tr>\n",
              "      <th>25%</th>\n",
              "      <td>2020-05-03 00:00:00</td>\n",
              "      <td>2.000000</td>\n",
              "      <td>200.000000</td>\n",
              "      <td>460.000000</td>\n",
              "      <td>2020.000000</td>\n",
              "    </tr>\n",
              "    <tr>\n",
              "      <th>50%</th>\n",
              "      <td>2021-08-18 00:00:00</td>\n",
              "      <td>3.000000</td>\n",
              "      <td>430.000000</td>\n",
              "      <td>1000.000000</td>\n",
              "      <td>2021.000000</td>\n",
              "    </tr>\n",
              "    <tr>\n",
              "      <th>75%</th>\n",
              "      <td>2022-11-07 12:00:00</td>\n",
              "      <td>4.000000</td>\n",
              "      <td>900.000000</td>\n",
              "      <td>2280.000000</td>\n",
              "      <td>2022.000000</td>\n",
              "    </tr>\n",
              "    <tr>\n",
              "      <th>max</th>\n",
              "      <td>2024-01-28 00:00:00</td>\n",
              "      <td>5.000000</td>\n",
              "      <td>1300.000000</td>\n",
              "      <td>6500.000000</td>\n",
              "      <td>2024.000000</td>\n",
              "    </tr>\n",
              "    <tr>\n",
              "      <th>std</th>\n",
              "      <td>NaN</td>\n",
              "      <td>1.411129</td>\n",
              "      <td>390.918007</td>\n",
              "      <td>1484.605820</td>\n",
              "      <td>1.431375</td>\n",
              "    </tr>\n",
              "  </tbody>\n",
              "</table>\n",
              "</div>"
            ],
            "text/plain": [
              "                                date     quantity   unit_price  total_price  \\\n",
              "count                           1988  1988.000000  1988.000000  1988.000000   \n",
              "mean   2021-08-10 09:56:08.209255680     3.012575   520.332495  1557.357646   \n",
              "min              2019-01-31 00:00:00     1.000000    50.000000    50.000000   \n",
              "25%              2020-05-03 00:00:00     2.000000   200.000000   460.000000   \n",
              "50%              2021-08-18 00:00:00     3.000000   430.000000  1000.000000   \n",
              "75%              2022-11-07 12:00:00     4.000000   900.000000  2280.000000   \n",
              "max              2024-01-28 00:00:00     5.000000  1300.000000  6500.000000   \n",
              "std                              NaN     1.411129   390.918007  1484.605820   \n",
              "\n",
              "              year  \n",
              "count  1988.000000  \n",
              "mean   2021.095070  \n",
              "min    2019.000000  \n",
              "25%    2020.000000  \n",
              "50%    2021.000000  \n",
              "75%    2022.000000  \n",
              "max    2024.000000  \n",
              "std       1.431375  "
            ]
          },
          "execution_count": 55,
          "metadata": {},
          "output_type": "execute_result"
        }
      ],
      "source": [
        "# Five number summary\n",
        "explore_sales.describe()"
      ]
    },
    {
      "cell_type": "markdown",
      "id": "xf3iYx8so6mG",
      "metadata": {
        "id": "xf3iYx8so6mG"
      },
      "source": [
        "**How many salespersons in the dataset?**"
      ]
    },
    {
      "cell_type": "code",
      "execution_count": 56,
      "id": "sEtNB83lM_yt",
      "metadata": {
        "id": "sEtNB83lM_yt"
      },
      "outputs": [
        {
          "data": {
            "text/plain": [
              "array(['Segun', 'Andiswa', 'James', 'Buhari', 'Edmund', 'Zolile', 'Nolo',\n",
              "       'Oludare', 'Mbali'], dtype=object)"
            ]
          },
          "execution_count": 56,
          "metadata": {},
          "output_type": "execute_result"
        }
      ],
      "source": [
        "explore_sales['salesperson'].unique()"
      ]
    },
    {
      "cell_type": "markdown",
      "id": "jasw7OBLTL_k",
      "metadata": {
        "id": "jasw7OBLTL_k"
      },
      "source": [
        "### Indexing\n",
        "\n",
        "We can select columns or rows from the dataset."
      ]
    },
    {
      "cell_type": "code",
      "execution_count": 57,
      "id": "SoLSDpFyS31f",
      "metadata": {
        "id": "SoLSDpFyS31f"
      },
      "outputs": [
        {
          "data": {
            "text/plain": [
              "0             Scott Perez\n",
              "1         Patricia Warren\n",
              "2           Deborah White\n",
              "3          Jeffrey Rogers\n",
              "4            Johnny Bauer\n",
              "              ...        \n",
              "1995         Alyssa Burns\n",
              "1996         Scott Wagner\n",
              "1997     Barbara Sheppard\n",
              "1998    Monica Jenkins MD\n",
              "1999       Danielle Olson\n",
              "Name: customer_name, Length: 1988, dtype: object"
            ]
          },
          "execution_count": 57,
          "metadata": {},
          "output_type": "execute_result"
        }
      ],
      "source": [
        "# Selecting a column\n",
        "explore_sales['customer_name']"
      ]
    },
    {
      "cell_type": "code",
      "execution_count": 58,
      "id": "00_LlMe3qa5w",
      "metadata": {
        "id": "00_LlMe3qa5w"
      },
      "outputs": [
        {
          "data": {
            "text/plain": [
              "0             Scott Perez\n",
              "1         Patricia Warren\n",
              "2           Deborah White\n",
              "3          Jeffrey Rogers\n",
              "4            Johnny Bauer\n",
              "              ...        \n",
              "1995         Alyssa Burns\n",
              "1996         Scott Wagner\n",
              "1997     Barbara Sheppard\n",
              "1998    Monica Jenkins MD\n",
              "1999       Danielle Olson\n",
              "Name: customer_name, Length: 1988, dtype: object"
            ]
          },
          "execution_count": 58,
          "metadata": {},
          "output_type": "execute_result"
        }
      ],
      "source": [
        "# Selecting a column\n",
        "explore_sales.customer_name"
      ]
    },
    {
      "cell_type": "code",
      "execution_count": 59,
      "id": "kMkxM_HoqUkk",
      "metadata": {
        "id": "kMkxM_HoqUkk"
      },
      "outputs": [
        {
          "data": {
            "text/html": [
              "<div>\n",
              "<style scoped>\n",
              "    .dataframe tbody tr th:only-of-type {\n",
              "        vertical-align: middle;\n",
              "    }\n",
              "\n",
              "    .dataframe tbody tr th {\n",
              "        vertical-align: top;\n",
              "    }\n",
              "\n",
              "    .dataframe thead th {\n",
              "        text-align: right;\n",
              "    }\n",
              "</style>\n",
              "<table border=\"1\" class=\"dataframe\">\n",
              "  <thead>\n",
              "    <tr style=\"text-align: right;\">\n",
              "      <th></th>\n",
              "      <th>customer_name</th>\n",
              "    </tr>\n",
              "  </thead>\n",
              "  <tbody>\n",
              "    <tr>\n",
              "      <th>0</th>\n",
              "      <td>Scott Perez</td>\n",
              "    </tr>\n",
              "    <tr>\n",
              "      <th>1</th>\n",
              "      <td>Patricia Warren</td>\n",
              "    </tr>\n",
              "    <tr>\n",
              "      <th>2</th>\n",
              "      <td>Deborah White</td>\n",
              "    </tr>\n",
              "    <tr>\n",
              "      <th>3</th>\n",
              "      <td>Jeffrey Rogers</td>\n",
              "    </tr>\n",
              "    <tr>\n",
              "      <th>4</th>\n",
              "      <td>Johnny Bauer</td>\n",
              "    </tr>\n",
              "    <tr>\n",
              "      <th>...</th>\n",
              "      <td>...</td>\n",
              "    </tr>\n",
              "    <tr>\n",
              "      <th>1995</th>\n",
              "      <td>Alyssa Burns</td>\n",
              "    </tr>\n",
              "    <tr>\n",
              "      <th>1996</th>\n",
              "      <td>Scott Wagner</td>\n",
              "    </tr>\n",
              "    <tr>\n",
              "      <th>1997</th>\n",
              "      <td>Barbara Sheppard</td>\n",
              "    </tr>\n",
              "    <tr>\n",
              "      <th>1998</th>\n",
              "      <td>Monica Jenkins MD</td>\n",
              "    </tr>\n",
              "    <tr>\n",
              "      <th>1999</th>\n",
              "      <td>Danielle Olson</td>\n",
              "    </tr>\n",
              "  </tbody>\n",
              "</table>\n",
              "<p>1988 rows × 1 columns</p>\n",
              "</div>"
            ],
            "text/plain": [
              "          customer_name\n",
              "0           Scott Perez\n",
              "1       Patricia Warren\n",
              "2         Deborah White\n",
              "3        Jeffrey Rogers\n",
              "4          Johnny Bauer\n",
              "...                 ...\n",
              "1995       Alyssa Burns\n",
              "1996       Scott Wagner\n",
              "1997   Barbara Sheppard\n",
              "1998  Monica Jenkins MD\n",
              "1999     Danielle Olson\n",
              "\n",
              "[1988 rows x 1 columns]"
            ]
          },
          "execution_count": 59,
          "metadata": {},
          "output_type": "execute_result"
        }
      ],
      "source": [
        "# Selecting a column\n",
        "explore_sales[['customer_name']]"
      ]
    },
    {
      "cell_type": "code",
      "execution_count": 60,
      "id": "qARGU4DLM_5k",
      "metadata": {
        "id": "qARGU4DLM_5k"
      },
      "outputs": [
        {
          "data": {
            "text/html": [
              "<div>\n",
              "<style scoped>\n",
              "    .dataframe tbody tr th:only-of-type {\n",
              "        vertical-align: middle;\n",
              "    }\n",
              "\n",
              "    .dataframe tbody tr th {\n",
              "        vertical-align: top;\n",
              "    }\n",
              "\n",
              "    .dataframe thead th {\n",
              "        text-align: right;\n",
              "    }\n",
              "</style>\n",
              "<table border=\"1\" class=\"dataframe\">\n",
              "  <thead>\n",
              "    <tr style=\"text-align: right;\">\n",
              "      <th></th>\n",
              "      <th>customer_name</th>\n",
              "      <th>product</th>\n",
              "      <th>quantity</th>\n",
              "    </tr>\n",
              "  </thead>\n",
              "  <tbody>\n",
              "    <tr>\n",
              "      <th>0</th>\n",
              "      <td>Scott Perez</td>\n",
              "      <td>Laptop</td>\n",
              "      <td>3</td>\n",
              "    </tr>\n",
              "    <tr>\n",
              "      <th>1</th>\n",
              "      <td>Patricia Warren</td>\n",
              "      <td>Bluetooth Keyboard</td>\n",
              "      <td>1</td>\n",
              "    </tr>\n",
              "    <tr>\n",
              "      <th>2</th>\n",
              "      <td>Deborah White</td>\n",
              "      <td>Tablet</td>\n",
              "      <td>2</td>\n",
              "    </tr>\n",
              "    <tr>\n",
              "      <th>3</th>\n",
              "      <td>Jeffrey Rogers</td>\n",
              "      <td>Bluetooth Keyboard</td>\n",
              "      <td>2</td>\n",
              "    </tr>\n",
              "    <tr>\n",
              "      <th>4</th>\n",
              "      <td>Johnny Bauer</td>\n",
              "      <td>External Hard Drive</td>\n",
              "      <td>2</td>\n",
              "    </tr>\n",
              "    <tr>\n",
              "      <th>...</th>\n",
              "      <td>...</td>\n",
              "      <td>...</td>\n",
              "      <td>...</td>\n",
              "    </tr>\n",
              "    <tr>\n",
              "      <th>1995</th>\n",
              "      <td>Alyssa Burns</td>\n",
              "      <td>Smart Home Hub</td>\n",
              "      <td>3</td>\n",
              "    </tr>\n",
              "    <tr>\n",
              "      <th>1996</th>\n",
              "      <td>Scott Wagner</td>\n",
              "      <td>Desktop Computer</td>\n",
              "      <td>5</td>\n",
              "    </tr>\n",
              "    <tr>\n",
              "      <th>1997</th>\n",
              "      <td>Barbara Sheppard</td>\n",
              "      <td>Gaming Console</td>\n",
              "      <td>2</td>\n",
              "    </tr>\n",
              "    <tr>\n",
              "      <th>1998</th>\n",
              "      <td>Monica Jenkins MD</td>\n",
              "      <td>Laptop</td>\n",
              "      <td>2</td>\n",
              "    </tr>\n",
              "    <tr>\n",
              "      <th>1999</th>\n",
              "      <td>Danielle Olson</td>\n",
              "      <td>Tablet</td>\n",
              "      <td>4</td>\n",
              "    </tr>\n",
              "  </tbody>\n",
              "</table>\n",
              "<p>1988 rows × 3 columns</p>\n",
              "</div>"
            ],
            "text/plain": [
              "          customer_name              product  quantity\n",
              "0           Scott Perez               Laptop         3\n",
              "1       Patricia Warren   Bluetooth Keyboard         1\n",
              "2         Deborah White               Tablet         2\n",
              "3        Jeffrey Rogers   Bluetooth Keyboard         2\n",
              "4          Johnny Bauer  External Hard Drive         2\n",
              "...                 ...                  ...       ...\n",
              "1995       Alyssa Burns       Smart Home Hub         3\n",
              "1996       Scott Wagner     Desktop Computer         5\n",
              "1997   Barbara Sheppard       Gaming Console         2\n",
              "1998  Monica Jenkins MD               Laptop         2\n",
              "1999     Danielle Olson               Tablet         4\n",
              "\n",
              "[1988 rows x 3 columns]"
            ]
          },
          "execution_count": 60,
          "metadata": {},
          "output_type": "execute_result"
        }
      ],
      "source": [
        "# Selecting multiple columns\n",
        "explore_sales[['customer_name', 'product', 'quantity']]"
      ]
    },
    {
      "cell_type": "code",
      "execution_count": 62,
      "id": "XsaqodSDTuZM",
      "metadata": {
        "id": "XsaqodSDTuZM"
      },
      "outputs": [
        {
          "data": {
            "text/html": [
              "<div>\n",
              "<style scoped>\n",
              "    .dataframe tbody tr th:only-of-type {\n",
              "        vertical-align: middle;\n",
              "    }\n",
              "\n",
              "    .dataframe tbody tr th {\n",
              "        vertical-align: top;\n",
              "    }\n",
              "\n",
              "    .dataframe thead th {\n",
              "        text-align: right;\n",
              "    }\n",
              "</style>\n",
              "<table border=\"1\" class=\"dataframe\">\n",
              "  <thead>\n",
              "    <tr style=\"text-align: right;\">\n",
              "      <th></th>\n",
              "      <th>date</th>\n",
              "      <th>customer_name</th>\n",
              "      <th>salesperson</th>\n",
              "      <th>product</th>\n",
              "      <th>quantity</th>\n",
              "      <th>unit_price</th>\n",
              "      <th>total_price</th>\n",
              "      <th>year</th>\n",
              "    </tr>\n",
              "  </thead>\n",
              "  <tbody>\n",
              "    <tr>\n",
              "      <th>0</th>\n",
              "      <td>2019-04-03</td>\n",
              "      <td>Scott Perez</td>\n",
              "      <td>Segun</td>\n",
              "      <td>Laptop</td>\n",
              "      <td>3</td>\n",
              "      <td>1000.0</td>\n",
              "      <td>3000.0</td>\n",
              "      <td>2019</td>\n",
              "    </tr>\n",
              "    <tr>\n",
              "      <th>1</th>\n",
              "      <td>2020-05-25</td>\n",
              "      <td>Patricia Warren</td>\n",
              "      <td>Andiswa</td>\n",
              "      <td>Bluetooth Keyboard</td>\n",
              "      <td>1</td>\n",
              "      <td>100.0</td>\n",
              "      <td>100.0</td>\n",
              "      <td>2020</td>\n",
              "    </tr>\n",
              "    <tr>\n",
              "      <th>2</th>\n",
              "      <td>2020-01-22</td>\n",
              "      <td>Deborah White</td>\n",
              "      <td>James</td>\n",
              "      <td>Tablet</td>\n",
              "      <td>2</td>\n",
              "      <td>900.0</td>\n",
              "      <td>1800.0</td>\n",
              "      <td>2020</td>\n",
              "    </tr>\n",
              "    <tr>\n",
              "      <th>3</th>\n",
              "      <td>2023-06-29</td>\n",
              "      <td>Jeffrey Rogers</td>\n",
              "      <td>Buhari</td>\n",
              "      <td>Bluetooth Keyboard</td>\n",
              "      <td>2</td>\n",
              "      <td>100.0</td>\n",
              "      <td>200.0</td>\n",
              "      <td>2023</td>\n",
              "    </tr>\n",
              "    <tr>\n",
              "      <th>4</th>\n",
              "      <td>2020-10-14</td>\n",
              "      <td>Johnny Bauer</td>\n",
              "      <td>Andiswa</td>\n",
              "      <td>External Hard Drive</td>\n",
              "      <td>2</td>\n",
              "      <td>120.0</td>\n",
              "      <td>240.0</td>\n",
              "      <td>2020</td>\n",
              "    </tr>\n",
              "    <tr>\n",
              "      <th>5</th>\n",
              "      <td>2023-02-03</td>\n",
              "      <td>Lindsay Banks</td>\n",
              "      <td>Buhari</td>\n",
              "      <td>Headphones</td>\n",
              "      <td>4</td>\n",
              "      <td>50.0</td>\n",
              "      <td>200.0</td>\n",
              "      <td>2023</td>\n",
              "    </tr>\n",
              "    <tr>\n",
              "      <th>6</th>\n",
              "      <td>2023-10-24</td>\n",
              "      <td>Bobby Knight</td>\n",
              "      <td>Edmund</td>\n",
              "      <td>VR Headset</td>\n",
              "      <td>1</td>\n",
              "      <td>500.0</td>\n",
              "      <td>500.0</td>\n",
              "      <td>2023</td>\n",
              "    </tr>\n",
              "    <tr>\n",
              "      <th>7</th>\n",
              "      <td>2019-09-25</td>\n",
              "      <td>Frank Fischer</td>\n",
              "      <td>Zolile</td>\n",
              "      <td>Portable Speaker</td>\n",
              "      <td>5</td>\n",
              "      <td>230.0</td>\n",
              "      <td>1150.0</td>\n",
              "      <td>2019</td>\n",
              "    </tr>\n",
              "    <tr>\n",
              "      <th>8</th>\n",
              "      <td>2023-09-30</td>\n",
              "      <td>Cameron Moody</td>\n",
              "      <td>Nolo</td>\n",
              "      <td>Bluetooth Keyboard</td>\n",
              "      <td>1</td>\n",
              "      <td>100.0</td>\n",
              "      <td>100.0</td>\n",
              "      <td>2023</td>\n",
              "    </tr>\n",
              "    <tr>\n",
              "      <th>9</th>\n",
              "      <td>2022-03-16</td>\n",
              "      <td>Monica Rivera</td>\n",
              "      <td>Oludare</td>\n",
              "      <td>Bluetooth Keyboard</td>\n",
              "      <td>3</td>\n",
              "      <td>100.0</td>\n",
              "      <td>300.0</td>\n",
              "      <td>2022</td>\n",
              "    </tr>\n",
              "  </tbody>\n",
              "</table>\n",
              "</div>"
            ],
            "text/plain": [
              "        date    customer_name salesperson              product  quantity  \\\n",
              "0 2019-04-03      Scott Perez       Segun               Laptop         3   \n",
              "1 2020-05-25  Patricia Warren     Andiswa   Bluetooth Keyboard         1   \n",
              "2 2020-01-22    Deborah White       James               Tablet         2   \n",
              "3 2023-06-29   Jeffrey Rogers      Buhari   Bluetooth Keyboard         2   \n",
              "4 2020-10-14     Johnny Bauer     Andiswa  External Hard Drive         2   \n",
              "5 2023-02-03    Lindsay Banks      Buhari           Headphones         4   \n",
              "6 2023-10-24     Bobby Knight      Edmund           VR Headset         1   \n",
              "7 2019-09-25    Frank Fischer      Zolile     Portable Speaker         5   \n",
              "8 2023-09-30    Cameron Moody        Nolo   Bluetooth Keyboard         1   \n",
              "9 2022-03-16    Monica Rivera     Oludare   Bluetooth Keyboard         3   \n",
              "\n",
              "   unit_price  total_price  year  \n",
              "0      1000.0       3000.0  2019  \n",
              "1       100.0        100.0  2020  \n",
              "2       900.0       1800.0  2020  \n",
              "3       100.0        200.0  2023  \n",
              "4       120.0        240.0  2020  \n",
              "5        50.0        200.0  2023  \n",
              "6       500.0        500.0  2023  \n",
              "7       230.0       1150.0  2019  \n",
              "8       100.0        100.0  2023  \n",
              "9       100.0        300.0  2022  "
            ]
          },
          "execution_count": 62,
          "metadata": {},
          "output_type": "execute_result"
        }
      ],
      "source": [
        "# Selecting a range of rows\n",
        "explore_sales.iloc[0:10]"
      ]
    },
    {
      "cell_type": "markdown",
      "id": "-iobE3QdrJtI",
      "metadata": {
        "id": "-iobE3QdrJtI"
      },
      "source": [
        "**Reset the index**"
      ]
    },
    {
      "cell_type": "code",
      "execution_count": 64,
      "id": "kylizbz7b4G3",
      "metadata": {
        "id": "kylizbz7b4G3"
      },
      "outputs": [
        {
          "data": {
            "text/html": [
              "<div>\n",
              "<style scoped>\n",
              "    .dataframe tbody tr th:only-of-type {\n",
              "        vertical-align: middle;\n",
              "    }\n",
              "\n",
              "    .dataframe tbody tr th {\n",
              "        vertical-align: top;\n",
              "    }\n",
              "\n",
              "    .dataframe thead th {\n",
              "        text-align: right;\n",
              "    }\n",
              "</style>\n",
              "<table border=\"1\" class=\"dataframe\">\n",
              "  <thead>\n",
              "    <tr style=\"text-align: right;\">\n",
              "      <th></th>\n",
              "      <th>customer_name</th>\n",
              "      <th>salesperson</th>\n",
              "      <th>product</th>\n",
              "      <th>quantity</th>\n",
              "      <th>unit_price</th>\n",
              "      <th>total_price</th>\n",
              "      <th>year</th>\n",
              "    </tr>\n",
              "    <tr>\n",
              "      <th>date</th>\n",
              "      <th></th>\n",
              "      <th></th>\n",
              "      <th></th>\n",
              "      <th></th>\n",
              "      <th></th>\n",
              "      <th></th>\n",
              "      <th></th>\n",
              "    </tr>\n",
              "  </thead>\n",
              "  <tbody>\n",
              "    <tr>\n",
              "      <th>2019-04-03</th>\n",
              "      <td>Scott Perez</td>\n",
              "      <td>Segun</td>\n",
              "      <td>Laptop</td>\n",
              "      <td>3</td>\n",
              "      <td>1000.0</td>\n",
              "      <td>3000.0</td>\n",
              "      <td>2019</td>\n",
              "    </tr>\n",
              "    <tr>\n",
              "      <th>2020-05-25</th>\n",
              "      <td>Patricia Warren</td>\n",
              "      <td>Andiswa</td>\n",
              "      <td>Bluetooth Keyboard</td>\n",
              "      <td>1</td>\n",
              "      <td>100.0</td>\n",
              "      <td>100.0</td>\n",
              "      <td>2020</td>\n",
              "    </tr>\n",
              "    <tr>\n",
              "      <th>2020-01-22</th>\n",
              "      <td>Deborah White</td>\n",
              "      <td>James</td>\n",
              "      <td>Tablet</td>\n",
              "      <td>2</td>\n",
              "      <td>900.0</td>\n",
              "      <td>1800.0</td>\n",
              "      <td>2020</td>\n",
              "    </tr>\n",
              "  </tbody>\n",
              "</table>\n",
              "</div>"
            ],
            "text/plain": [
              "              customer_name salesperson             product  quantity  \\\n",
              "date                                                                    \n",
              "2019-04-03      Scott Perez       Segun              Laptop         3   \n",
              "2020-05-25  Patricia Warren     Andiswa  Bluetooth Keyboard         1   \n",
              "2020-01-22    Deborah White       James              Tablet         2   \n",
              "\n",
              "            unit_price  total_price  year  \n",
              "date                                       \n",
              "2019-04-03      1000.0       3000.0  2019  \n",
              "2020-05-25       100.0        100.0  2020  \n",
              "2020-01-22       900.0       1800.0  2020  "
            ]
          },
          "execution_count": 64,
          "metadata": {},
          "output_type": "execute_result"
        }
      ],
      "source": [
        "# Reset the index to date\n",
        "explore_sales_2 = explore_sales.set_index('date')\n",
        "explore_sales_2.head(3)"
      ]
    },
    {
      "cell_type": "code",
      "execution_count": 65,
      "id": "P3Lc0dMRsEzG",
      "metadata": {
        "id": "P3Lc0dMRsEzG"
      },
      "outputs": [
        {
          "data": {
            "text/html": [
              "<div>\n",
              "<style scoped>\n",
              "    .dataframe tbody tr th:only-of-type {\n",
              "        vertical-align: middle;\n",
              "    }\n",
              "\n",
              "    .dataframe tbody tr th {\n",
              "        vertical-align: top;\n",
              "    }\n",
              "\n",
              "    .dataframe thead th {\n",
              "        text-align: right;\n",
              "    }\n",
              "</style>\n",
              "<table border=\"1\" class=\"dataframe\">\n",
              "  <thead>\n",
              "    <tr style=\"text-align: right;\">\n",
              "      <th></th>\n",
              "      <th>date</th>\n",
              "      <th>customer_name</th>\n",
              "      <th>product</th>\n",
              "      <th>quantity</th>\n",
              "      <th>unit_price</th>\n",
              "      <th>total_price</th>\n",
              "      <th>year</th>\n",
              "    </tr>\n",
              "    <tr>\n",
              "      <th>salesperson</th>\n",
              "      <th></th>\n",
              "      <th></th>\n",
              "      <th></th>\n",
              "      <th></th>\n",
              "      <th></th>\n",
              "      <th></th>\n",
              "      <th></th>\n",
              "    </tr>\n",
              "  </thead>\n",
              "  <tbody>\n",
              "    <tr>\n",
              "      <th>Segun</th>\n",
              "      <td>2019-04-03</td>\n",
              "      <td>Scott Perez</td>\n",
              "      <td>Laptop</td>\n",
              "      <td>3</td>\n",
              "      <td>1000.0</td>\n",
              "      <td>3000.0</td>\n",
              "      <td>2019</td>\n",
              "    </tr>\n",
              "    <tr>\n",
              "      <th>Andiswa</th>\n",
              "      <td>2020-05-25</td>\n",
              "      <td>Patricia Warren</td>\n",
              "      <td>Bluetooth Keyboard</td>\n",
              "      <td>1</td>\n",
              "      <td>100.0</td>\n",
              "      <td>100.0</td>\n",
              "      <td>2020</td>\n",
              "    </tr>\n",
              "    <tr>\n",
              "      <th>James</th>\n",
              "      <td>2020-01-22</td>\n",
              "      <td>Deborah White</td>\n",
              "      <td>Tablet</td>\n",
              "      <td>2</td>\n",
              "      <td>900.0</td>\n",
              "      <td>1800.0</td>\n",
              "      <td>2020</td>\n",
              "    </tr>\n",
              "  </tbody>\n",
              "</table>\n",
              "</div>"
            ],
            "text/plain": [
              "                  date    customer_name             product  quantity  \\\n",
              "salesperson                                                             \n",
              "Segun       2019-04-03      Scott Perez              Laptop         3   \n",
              "Andiswa     2020-05-25  Patricia Warren  Bluetooth Keyboard         1   \n",
              "James       2020-01-22    Deborah White              Tablet         2   \n",
              "\n",
              "             unit_price  total_price  year  \n",
              "salesperson                                 \n",
              "Segun            1000.0       3000.0  2019  \n",
              "Andiswa           100.0        100.0  2020  \n",
              "James             900.0       1800.0  2020  "
            ]
          },
          "execution_count": 65,
          "metadata": {},
          "output_type": "execute_result"
        }
      ],
      "source": [
        "# Set salesperson as index\n",
        "explore_sales_3 = explore_sales.set_index('salesperson')\n",
        "explore_sales_3.head(3)"
      ]
    },
    {
      "cell_type": "markdown",
      "id": "afTkZ2IRvhpH",
      "metadata": {
        "id": "afTkZ2IRvhpH"
      },
      "source": [
        "Get all Edmund's sales records"
      ]
    },
    {
      "cell_type": "code",
      "execution_count": 66,
      "id": "2wI4Ius3mVp-",
      "metadata": {
        "id": "2wI4Ius3mVp-"
      },
      "outputs": [
        {
          "data": {
            "text/html": [
              "<div>\n",
              "<style scoped>\n",
              "    .dataframe tbody tr th:only-of-type {\n",
              "        vertical-align: middle;\n",
              "    }\n",
              "\n",
              "    .dataframe tbody tr th {\n",
              "        vertical-align: top;\n",
              "    }\n",
              "\n",
              "    .dataframe thead th {\n",
              "        text-align: right;\n",
              "    }\n",
              "</style>\n",
              "<table border=\"1\" class=\"dataframe\">\n",
              "  <thead>\n",
              "    <tr style=\"text-align: right;\">\n",
              "      <th></th>\n",
              "      <th>date</th>\n",
              "      <th>customer_name</th>\n",
              "      <th>product</th>\n",
              "      <th>quantity</th>\n",
              "      <th>unit_price</th>\n",
              "      <th>total_price</th>\n",
              "      <th>year</th>\n",
              "    </tr>\n",
              "    <tr>\n",
              "      <th>salesperson</th>\n",
              "      <th></th>\n",
              "      <th></th>\n",
              "      <th></th>\n",
              "      <th></th>\n",
              "      <th></th>\n",
              "      <th></th>\n",
              "      <th></th>\n",
              "    </tr>\n",
              "  </thead>\n",
              "  <tbody>\n",
              "    <tr>\n",
              "      <th>Edmund</th>\n",
              "      <td>2023-10-24</td>\n",
              "      <td>Bobby Knight</td>\n",
              "      <td>VR Headset</td>\n",
              "      <td>1</td>\n",
              "      <td>500.0</td>\n",
              "      <td>500.0</td>\n",
              "      <td>2023</td>\n",
              "    </tr>\n",
              "    <tr>\n",
              "      <th>Edmund</th>\n",
              "      <td>2022-09-11</td>\n",
              "      <td>Dr. Wendy Garcia DVM</td>\n",
              "      <td>Wireless Earbuds</td>\n",
              "      <td>1</td>\n",
              "      <td>200.0</td>\n",
              "      <td>200.0</td>\n",
              "      <td>2022</td>\n",
              "    </tr>\n",
              "    <tr>\n",
              "      <th>Edmund</th>\n",
              "      <td>2022-07-25</td>\n",
              "      <td>Jamie Myers</td>\n",
              "      <td>Wireless Earbuds</td>\n",
              "      <td>4</td>\n",
              "      <td>200.0</td>\n",
              "      <td>800.0</td>\n",
              "      <td>2022</td>\n",
              "    </tr>\n",
              "    <tr>\n",
              "      <th>Edmund</th>\n",
              "      <td>2019-05-20</td>\n",
              "      <td>Nicholas Glenn</td>\n",
              "      <td>Tablet</td>\n",
              "      <td>3</td>\n",
              "      <td>900.0</td>\n",
              "      <td>2700.0</td>\n",
              "      <td>2019</td>\n",
              "    </tr>\n",
              "    <tr>\n",
              "      <th>Edmund</th>\n",
              "      <td>2021-02-21</td>\n",
              "      <td>Stephanie Hudson</td>\n",
              "      <td>Smart Home Hub</td>\n",
              "      <td>2</td>\n",
              "      <td>200.0</td>\n",
              "      <td>400.0</td>\n",
              "      <td>2021</td>\n",
              "    </tr>\n",
              "    <tr>\n",
              "      <th>...</th>\n",
              "      <td>...</td>\n",
              "      <td>...</td>\n",
              "      <td>...</td>\n",
              "      <td>...</td>\n",
              "      <td>...</td>\n",
              "      <td>...</td>\n",
              "      <td>...</td>\n",
              "    </tr>\n",
              "    <tr>\n",
              "      <th>Edmund</th>\n",
              "      <td>2022-12-13</td>\n",
              "      <td>Paul Brown</td>\n",
              "      <td>Drone</td>\n",
              "      <td>4</td>\n",
              "      <td>1300.0</td>\n",
              "      <td>5200.0</td>\n",
              "      <td>2022</td>\n",
              "    </tr>\n",
              "    <tr>\n",
              "      <th>Edmund</th>\n",
              "      <td>2019-04-18</td>\n",
              "      <td>Christian Sanchez</td>\n",
              "      <td>Smartphone</td>\n",
              "      <td>2</td>\n",
              "      <td>760.0</td>\n",
              "      <td>1520.0</td>\n",
              "      <td>2019</td>\n",
              "    </tr>\n",
              "    <tr>\n",
              "      <th>Edmund</th>\n",
              "      <td>2020-07-19</td>\n",
              "      <td>Matthew Cooper</td>\n",
              "      <td>Fitness Tracker</td>\n",
              "      <td>5</td>\n",
              "      <td>430.0</td>\n",
              "      <td>2150.0</td>\n",
              "      <td>2020</td>\n",
              "    </tr>\n",
              "    <tr>\n",
              "      <th>Edmund</th>\n",
              "      <td>2023-12-06</td>\n",
              "      <td>George Foster</td>\n",
              "      <td>Laptop</td>\n",
              "      <td>1</td>\n",
              "      <td>1000.0</td>\n",
              "      <td>1000.0</td>\n",
              "      <td>2023</td>\n",
              "    </tr>\n",
              "    <tr>\n",
              "      <th>Edmund</th>\n",
              "      <td>2021-03-12</td>\n",
              "      <td>Philip Fritz</td>\n",
              "      <td>Fitness Tracker</td>\n",
              "      <td>4</td>\n",
              "      <td>430.0</td>\n",
              "      <td>1720.0</td>\n",
              "      <td>2021</td>\n",
              "    </tr>\n",
              "  </tbody>\n",
              "</table>\n",
              "<p>218 rows × 7 columns</p>\n",
              "</div>"
            ],
            "text/plain": [
              "                  date         customer_name           product  quantity  \\\n",
              "salesperson                                                                \n",
              "Edmund      2023-10-24          Bobby Knight        VR Headset         1   \n",
              "Edmund      2022-09-11  Dr. Wendy Garcia DVM  Wireless Earbuds         1   \n",
              "Edmund      2022-07-25           Jamie Myers  Wireless Earbuds         4   \n",
              "Edmund      2019-05-20        Nicholas Glenn            Tablet         3   \n",
              "Edmund      2021-02-21      Stephanie Hudson    Smart Home Hub         2   \n",
              "...                ...                   ...               ...       ...   \n",
              "Edmund      2022-12-13            Paul Brown             Drone         4   \n",
              "Edmund      2019-04-18     Christian Sanchez        Smartphone         2   \n",
              "Edmund      2020-07-19        Matthew Cooper   Fitness Tracker         5   \n",
              "Edmund      2023-12-06         George Foster            Laptop         1   \n",
              "Edmund      2021-03-12          Philip Fritz   Fitness Tracker         4   \n",
              "\n",
              "             unit_price  total_price  year  \n",
              "salesperson                                 \n",
              "Edmund            500.0        500.0  2023  \n",
              "Edmund            200.0        200.0  2022  \n",
              "Edmund            200.0        800.0  2022  \n",
              "Edmund            900.0       2700.0  2019  \n",
              "Edmund            200.0        400.0  2021  \n",
              "...                 ...          ...   ...  \n",
              "Edmund           1300.0       5200.0  2022  \n",
              "Edmund            760.0       1520.0  2019  \n",
              "Edmund            430.0       2150.0  2020  \n",
              "Edmund           1000.0       1000.0  2023  \n",
              "Edmund            430.0       1720.0  2021  \n",
              "\n",
              "[218 rows x 7 columns]"
            ]
          },
          "execution_count": 66,
          "metadata": {},
          "output_type": "execute_result"
        }
      ],
      "source": [
        "# Pull out Edmund's sales\n",
        "explore_sales_3.loc['Edmund']"
      ]
    },
    {
      "cell_type": "markdown",
      "id": "3UZcIo_GvxEH",
      "metadata": {
        "id": "3UZcIo_GvxEH"
      },
      "source": [
        "Get all James' sales records above the average sales"
      ]
    },
    {
      "cell_type": "code",
      "execution_count": 68,
      "id": "OOCPvcZzD88D",
      "metadata": {
        "id": "OOCPvcZzD88D"
      },
      "outputs": [
        {
          "data": {
            "text/html": [
              "<div>\n",
              "<style scoped>\n",
              "    .dataframe tbody tr th:only-of-type {\n",
              "        vertical-align: middle;\n",
              "    }\n",
              "\n",
              "    .dataframe tbody tr th {\n",
              "        vertical-align: top;\n",
              "    }\n",
              "\n",
              "    .dataframe thead th {\n",
              "        text-align: right;\n",
              "    }\n",
              "</style>\n",
              "<table border=\"1\" class=\"dataframe\">\n",
              "  <thead>\n",
              "    <tr style=\"text-align: right;\">\n",
              "      <th></th>\n",
              "      <th>date</th>\n",
              "      <th>customer_name</th>\n",
              "      <th>salesperson</th>\n",
              "      <th>product</th>\n",
              "      <th>quantity</th>\n",
              "      <th>unit_price</th>\n",
              "      <th>total_price</th>\n",
              "      <th>year</th>\n",
              "    </tr>\n",
              "  </thead>\n",
              "  <tbody>\n",
              "    <tr>\n",
              "      <th>29</th>\n",
              "      <td>2020-03-30</td>\n",
              "      <td>Brandon Paul</td>\n",
              "      <td>James</td>\n",
              "      <td>Robot Vacuum Cleaner</td>\n",
              "      <td>2</td>\n",
              "      <td>250.0</td>\n",
              "      <td>500.0</td>\n",
              "      <td>2020</td>\n",
              "    </tr>\n",
              "    <tr>\n",
              "      <th>33</th>\n",
              "      <td>2022-07-01</td>\n",
              "      <td>Erica Carter</td>\n",
              "      <td>James</td>\n",
              "      <td>Fitness Tracker</td>\n",
              "      <td>1</td>\n",
              "      <td>430.0</td>\n",
              "      <td>430.0</td>\n",
              "      <td>2022</td>\n",
              "    </tr>\n",
              "    <tr>\n",
              "      <th>69</th>\n",
              "      <td>2020-09-26</td>\n",
              "      <td>Janice Harris</td>\n",
              "      <td>James</td>\n",
              "      <td>Headphones</td>\n",
              "      <td>4</td>\n",
              "      <td>50.0</td>\n",
              "      <td>200.0</td>\n",
              "      <td>2020</td>\n",
              "    </tr>\n",
              "    <tr>\n",
              "      <th>72</th>\n",
              "      <td>2021-03-20</td>\n",
              "      <td>Dawn Brock</td>\n",
              "      <td>James</td>\n",
              "      <td>Desktop Computer</td>\n",
              "      <td>1</td>\n",
              "      <td>1200.0</td>\n",
              "      <td>1200.0</td>\n",
              "      <td>2021</td>\n",
              "    </tr>\n",
              "    <tr>\n",
              "      <th>73</th>\n",
              "      <td>2022-02-15</td>\n",
              "      <td>Bobby Knight</td>\n",
              "      <td>James</td>\n",
              "      <td>Wireless Earbuds</td>\n",
              "      <td>5</td>\n",
              "      <td>200.0</td>\n",
              "      <td>1000.0</td>\n",
              "      <td>2022</td>\n",
              "    </tr>\n",
              "    <tr>\n",
              "      <th>...</th>\n",
              "      <td>...</td>\n",
              "      <td>...</td>\n",
              "      <td>...</td>\n",
              "      <td>...</td>\n",
              "      <td>...</td>\n",
              "      <td>...</td>\n",
              "      <td>...</td>\n",
              "      <td>...</td>\n",
              "    </tr>\n",
              "    <tr>\n",
              "      <th>1881</th>\n",
              "      <td>2021-07-26</td>\n",
              "      <td>Wendy Roberson</td>\n",
              "      <td>James</td>\n",
              "      <td>Bluetooth Keyboard</td>\n",
              "      <td>1</td>\n",
              "      <td>100.0</td>\n",
              "      <td>100.0</td>\n",
              "      <td>2021</td>\n",
              "    </tr>\n",
              "    <tr>\n",
              "      <th>1922</th>\n",
              "      <td>2019-12-27</td>\n",
              "      <td>Yesenia Morris</td>\n",
              "      <td>James</td>\n",
              "      <td>E-reader</td>\n",
              "      <td>5</td>\n",
              "      <td>120.0</td>\n",
              "      <td>600.0</td>\n",
              "      <td>2019</td>\n",
              "    </tr>\n",
              "    <tr>\n",
              "      <th>1979</th>\n",
              "      <td>2020-05-11</td>\n",
              "      <td>Scott Lin</td>\n",
              "      <td>James</td>\n",
              "      <td>E-reader</td>\n",
              "      <td>5</td>\n",
              "      <td>120.0</td>\n",
              "      <td>600.0</td>\n",
              "      <td>2020</td>\n",
              "    </tr>\n",
              "    <tr>\n",
              "      <th>1986</th>\n",
              "      <td>2022-09-29</td>\n",
              "      <td>Jeffrey Andrews</td>\n",
              "      <td>James</td>\n",
              "      <td>Portable Speaker</td>\n",
              "      <td>5</td>\n",
              "      <td>230.0</td>\n",
              "      <td>1150.0</td>\n",
              "      <td>2022</td>\n",
              "    </tr>\n",
              "    <tr>\n",
              "      <th>1994</th>\n",
              "      <td>2021-12-15</td>\n",
              "      <td>Mr. James Benton</td>\n",
              "      <td>James</td>\n",
              "      <td>Wireless Earbuds</td>\n",
              "      <td>5</td>\n",
              "      <td>200.0</td>\n",
              "      <td>1000.0</td>\n",
              "      <td>2021</td>\n",
              "    </tr>\n",
              "  </tbody>\n",
              "</table>\n",
              "<p>147 rows × 8 columns</p>\n",
              "</div>"
            ],
            "text/plain": [
              "           date     customer_name salesperson               product  quantity  \\\n",
              "29   2020-03-30      Brandon Paul       James  Robot Vacuum Cleaner         2   \n",
              "33   2022-07-01      Erica Carter       James       Fitness Tracker         1   \n",
              "69   2020-09-26     Janice Harris       James            Headphones         4   \n",
              "72   2021-03-20        Dawn Brock       James      Desktop Computer         1   \n",
              "73   2022-02-15      Bobby Knight       James      Wireless Earbuds         5   \n",
              "...         ...               ...         ...                   ...       ...   \n",
              "1881 2021-07-26    Wendy Roberson       James    Bluetooth Keyboard         1   \n",
              "1922 2019-12-27    Yesenia Morris       James              E-reader         5   \n",
              "1979 2020-05-11         Scott Lin       James              E-reader         5   \n",
              "1986 2022-09-29   Jeffrey Andrews       James      Portable Speaker         5   \n",
              "1994 2021-12-15  Mr. James Benton       James      Wireless Earbuds         5   \n",
              "\n",
              "      unit_price  total_price  year  \n",
              "29         250.0        500.0  2020  \n",
              "33         430.0        430.0  2022  \n",
              "69          50.0        200.0  2020  \n",
              "72        1200.0       1200.0  2021  \n",
              "73         200.0       1000.0  2022  \n",
              "...          ...          ...   ...  \n",
              "1881       100.0        100.0  2021  \n",
              "1922       120.0        600.0  2019  \n",
              "1979       120.0        600.0  2020  \n",
              "1986       230.0       1150.0  2022  \n",
              "1994       200.0       1000.0  2021  \n",
              "\n",
              "[147 rows x 8 columns]"
            ]
          },
          "execution_count": 68,
          "metadata": {},
          "output_type": "execute_result"
        }
      ],
      "source": [
        "# Pull our James' sales\n",
        "james_sales = explore_sales['salesperson'] == \"James\"\n",
        "all_sales = explore_sales['total_price']\n",
        "average_sales = explore_sales['total_price'].mean()\n",
        "\n",
        "explore_sales[james_sales & (all_sales > average_sales)]"
      ]
    },
    {
      "cell_type": "markdown",
      "id": "V7BiwuFw7J-U",
      "metadata": {
        "id": "V7BiwuFw7J-U"
      },
      "source": [
        "**Create a function to pull sales records**"
      ]
    },
    {
      "cell_type": "code",
      "execution_count": 69,
      "id": "MpWWN98S6v0g",
      "metadata": {
        "id": "MpWWN98S6v0g"
      },
      "outputs": [],
      "source": [
        "\n",
        "def filter_sales_records(df, salesperson_name, start_date, end_date):\n",
        "    \"\"\"\n",
        "    Filter sales records based on salesperson name and date range.\n",
        "\n",
        "    Parameters:\n",
        "    - df: DataFrame with columns 'Date', 'Salesperson', 'Total Sales'\n",
        "    - salesperson_name: Name of the salesperson to filter records for\n",
        "    - start_date: Start date of the desired date range\n",
        "    - end_date: End date of the desired date range\n",
        "\n",
        "    Returns:\n",
        "    - DataFrame containing filtered sales records\n",
        "    \"\"\"\n",
        "    # Filter based on salesperson name\n",
        "    filtered_df = df[df['salesperson'] == salesperson_name]\n",
        "\n",
        "    # Filter based on date range\n",
        "    date_mask = (filtered_df['Date'] >= start_date) & (filtered_df['Date'] <= end_date)\n",
        "    filtered_df = filtered_df[date_mask]\n",
        "\n",
        "    return filtered_df"
      ]
    },
    {
      "cell_type": "code",
      "execution_count": 83,
      "id": "mucZ64Vt7TOb",
      "metadata": {
        "id": "mucZ64Vt7TOb"
      },
      "outputs": [
        {
          "ename": "KeyError",
          "evalue": "'Date'",
          "output_type": "error",
          "traceback": [
            "\u001b[0;31m---------------------------------------------------------------------------\u001b[0m",
            "\u001b[0;31mKeyError\u001b[0m                                  Traceback (most recent call last)",
            "File \u001b[0;32m~/anaconda3/envs/python_visuals/lib/python3.11/site-packages/pandas/core/indexes/base.py:3805\u001b[0m, in \u001b[0;36mIndex.get_loc\u001b[0;34m(self, key)\u001b[0m\n\u001b[1;32m   3804\u001b[0m \u001b[38;5;28;01mtry\u001b[39;00m:\n\u001b[0;32m-> 3805\u001b[0m     \u001b[38;5;28;01mreturn\u001b[39;00m \u001b[38;5;28mself\u001b[39m\u001b[38;5;241m.\u001b[39m_engine\u001b[38;5;241m.\u001b[39mget_loc(casted_key)\n\u001b[1;32m   3806\u001b[0m \u001b[38;5;28;01mexcept\u001b[39;00m \u001b[38;5;167;01mKeyError\u001b[39;00m \u001b[38;5;28;01mas\u001b[39;00m err:\n",
            "File \u001b[0;32mindex.pyx:167\u001b[0m, in \u001b[0;36mpandas._libs.index.IndexEngine.get_loc\u001b[0;34m()\u001b[0m\n",
            "File \u001b[0;32mindex.pyx:196\u001b[0m, in \u001b[0;36mpandas._libs.index.IndexEngine.get_loc\u001b[0;34m()\u001b[0m\n",
            "File \u001b[0;32mpandas/_libs/hashtable_class_helper.pxi:7081\u001b[0m, in \u001b[0;36mpandas._libs.hashtable.PyObjectHashTable.get_item\u001b[0;34m()\u001b[0m\n",
            "File \u001b[0;32mpandas/_libs/hashtable_class_helper.pxi:7089\u001b[0m, in \u001b[0;36mpandas._libs.hashtable.PyObjectHashTable.get_item\u001b[0;34m()\u001b[0m\n",
            "\u001b[0;31mKeyError\u001b[0m: 'Date'",
            "\nThe above exception was the direct cause of the following exception:\n",
            "\u001b[0;31mKeyError\u001b[0m                                  Traceback (most recent call last)",
            "Cell \u001b[0;32mIn[83], line 7\u001b[0m\n\u001b[1;32m      5\u001b[0m start_date \u001b[38;5;241m=\u001b[39m \u001b[38;5;124m\"\u001b[39m\u001b[38;5;124m2019-01-01\u001b[39m\u001b[38;5;124m\"\u001b[39m\n\u001b[1;32m      6\u001b[0m end_date \u001b[38;5;241m=\u001b[39m \u001b[38;5;124m\"\u001b[39m\u001b[38;5;124m2021-12-31\u001b[39m\u001b[38;5;124m\"\u001b[39m\n\u001b[0;32m----> 7\u001b[0m filter_sales_records(explore_sales_2, \u001b[38;5;124m\"\u001b[39m\u001b[38;5;124mJames\u001b[39m\u001b[38;5;124m\"\u001b[39m, datetime\u001b[38;5;241m.\u001b[39mstrptime(start_date, date_format), datetime\u001b[38;5;241m.\u001b[39mstrptime(end_date, date_format) )\n",
            "Cell \u001b[0;32mIn[69], line 18\u001b[0m, in \u001b[0;36mfilter_sales_records\u001b[0;34m(df, salesperson_name, start_date, end_date)\u001b[0m\n\u001b[1;32m     15\u001b[0m filtered_df \u001b[38;5;241m=\u001b[39m df[df[\u001b[38;5;124m'\u001b[39m\u001b[38;5;124msalesperson\u001b[39m\u001b[38;5;124m'\u001b[39m] \u001b[38;5;241m==\u001b[39m salesperson_name]\n\u001b[1;32m     17\u001b[0m \u001b[38;5;66;03m# Filter based on date range\u001b[39;00m\n\u001b[0;32m---> 18\u001b[0m date_mask \u001b[38;5;241m=\u001b[39m (filtered_df[\u001b[38;5;124m'\u001b[39m\u001b[38;5;124mDate\u001b[39m\u001b[38;5;124m'\u001b[39m] \u001b[38;5;241m>\u001b[39m\u001b[38;5;241m=\u001b[39m start_date) \u001b[38;5;241m&\u001b[39m (filtered_df[\u001b[38;5;124m'\u001b[39m\u001b[38;5;124mDate\u001b[39m\u001b[38;5;124m'\u001b[39m] \u001b[38;5;241m<\u001b[39m\u001b[38;5;241m=\u001b[39m end_date)\n\u001b[1;32m     19\u001b[0m filtered_df \u001b[38;5;241m=\u001b[39m filtered_df[date_mask]\n\u001b[1;32m     21\u001b[0m \u001b[38;5;28;01mreturn\u001b[39;00m filtered_df\n",
            "File \u001b[0;32m~/anaconda3/envs/python_visuals/lib/python3.11/site-packages/pandas/core/frame.py:4090\u001b[0m, in \u001b[0;36mDataFrame.__getitem__\u001b[0;34m(self, key)\u001b[0m\n\u001b[1;32m   4088\u001b[0m \u001b[38;5;28;01mif\u001b[39;00m \u001b[38;5;28mself\u001b[39m\u001b[38;5;241m.\u001b[39mcolumns\u001b[38;5;241m.\u001b[39mnlevels \u001b[38;5;241m>\u001b[39m \u001b[38;5;241m1\u001b[39m:\n\u001b[1;32m   4089\u001b[0m     \u001b[38;5;28;01mreturn\u001b[39;00m \u001b[38;5;28mself\u001b[39m\u001b[38;5;241m.\u001b[39m_getitem_multilevel(key)\n\u001b[0;32m-> 4090\u001b[0m indexer \u001b[38;5;241m=\u001b[39m \u001b[38;5;28mself\u001b[39m\u001b[38;5;241m.\u001b[39mcolumns\u001b[38;5;241m.\u001b[39mget_loc(key)\n\u001b[1;32m   4091\u001b[0m \u001b[38;5;28;01mif\u001b[39;00m is_integer(indexer):\n\u001b[1;32m   4092\u001b[0m     indexer \u001b[38;5;241m=\u001b[39m [indexer]\n",
            "File \u001b[0;32m~/anaconda3/envs/python_visuals/lib/python3.11/site-packages/pandas/core/indexes/base.py:3812\u001b[0m, in \u001b[0;36mIndex.get_loc\u001b[0;34m(self, key)\u001b[0m\n\u001b[1;32m   3807\u001b[0m     \u001b[38;5;28;01mif\u001b[39;00m \u001b[38;5;28misinstance\u001b[39m(casted_key, \u001b[38;5;28mslice\u001b[39m) \u001b[38;5;129;01mor\u001b[39;00m (\n\u001b[1;32m   3808\u001b[0m         \u001b[38;5;28misinstance\u001b[39m(casted_key, abc\u001b[38;5;241m.\u001b[39mIterable)\n\u001b[1;32m   3809\u001b[0m         \u001b[38;5;129;01mand\u001b[39;00m \u001b[38;5;28many\u001b[39m(\u001b[38;5;28misinstance\u001b[39m(x, \u001b[38;5;28mslice\u001b[39m) \u001b[38;5;28;01mfor\u001b[39;00m x \u001b[38;5;129;01min\u001b[39;00m casted_key)\n\u001b[1;32m   3810\u001b[0m     ):\n\u001b[1;32m   3811\u001b[0m         \u001b[38;5;28;01mraise\u001b[39;00m InvalidIndexError(key)\n\u001b[0;32m-> 3812\u001b[0m     \u001b[38;5;28;01mraise\u001b[39;00m \u001b[38;5;167;01mKeyError\u001b[39;00m(key) \u001b[38;5;28;01mfrom\u001b[39;00m \u001b[38;5;21;01merr\u001b[39;00m\n\u001b[1;32m   3813\u001b[0m \u001b[38;5;28;01mexcept\u001b[39;00m \u001b[38;5;167;01mTypeError\u001b[39;00m:\n\u001b[1;32m   3814\u001b[0m     \u001b[38;5;66;03m# If we have a listlike key, _check_indexing_error will raise\u001b[39;00m\n\u001b[1;32m   3815\u001b[0m     \u001b[38;5;66;03m#  InvalidIndexError. Otherwise we fall through and re-raise\u001b[39;00m\n\u001b[1;32m   3816\u001b[0m     \u001b[38;5;66;03m#  the TypeError.\u001b[39;00m\n\u001b[1;32m   3817\u001b[0m     \u001b[38;5;28mself\u001b[39m\u001b[38;5;241m.\u001b[39m_check_indexing_error(key)\n",
            "\u001b[0;31mKeyError\u001b[0m: 'Date'"
          ]
        }
      ],
      "source": [
        "from datetime import datetime\n",
        "\n",
        "date_format = '%Y-%m-%d'\n",
        "\n",
        "start_date = \"2019-01-01\"\n",
        "end_date = \"2021-12-31\"\n",
        "filter_sales_records(explore_sales_2, \"James\", datetime.strptime(start_date, date_format), datetime.strptime(end_date, date_format) )"
      ]
    },
    {
      "cell_type": "markdown",
      "id": "bgK4TLcq6pT9",
      "metadata": {
        "id": "bgK4TLcq6pT9"
      },
      "source": [
        "**Sorting**"
      ]
    },
    {
      "cell_type": "code",
      "execution_count": 73,
      "id": "AtfS1bhvm2u1",
      "metadata": {
        "id": "AtfS1bhvm2u1"
      },
      "outputs": [
        {
          "data": {
            "text/html": [
              "<div>\n",
              "<style scoped>\n",
              "    .dataframe tbody tr th:only-of-type {\n",
              "        vertical-align: middle;\n",
              "    }\n",
              "\n",
              "    .dataframe tbody tr th {\n",
              "        vertical-align: top;\n",
              "    }\n",
              "\n",
              "    .dataframe thead th {\n",
              "        text-align: right;\n",
              "    }\n",
              "</style>\n",
              "<table border=\"1\" class=\"dataframe\">\n",
              "  <thead>\n",
              "    <tr style=\"text-align: right;\">\n",
              "      <th></th>\n",
              "      <th>date</th>\n",
              "      <th>customer_name</th>\n",
              "      <th>product</th>\n",
              "      <th>quantity</th>\n",
              "      <th>unit_price</th>\n",
              "      <th>total_price</th>\n",
              "      <th>year</th>\n",
              "    </tr>\n",
              "    <tr>\n",
              "      <th>salesperson</th>\n",
              "      <th></th>\n",
              "      <th></th>\n",
              "      <th></th>\n",
              "      <th></th>\n",
              "      <th></th>\n",
              "      <th></th>\n",
              "      <th></th>\n",
              "    </tr>\n",
              "  </thead>\n",
              "  <tbody>\n",
              "    <tr>\n",
              "      <th>Mbali</th>\n",
              "      <td>2019-01-31</td>\n",
              "      <td>Jenna Fox</td>\n",
              "      <td>Digital Camera</td>\n",
              "      <td>2</td>\n",
              "      <td>780.0</td>\n",
              "      <td>1560.0</td>\n",
              "      <td>2019</td>\n",
              "    </tr>\n",
              "    <tr>\n",
              "      <th>Nolo</th>\n",
              "      <td>2019-01-31</td>\n",
              "      <td>Mandy Pearson</td>\n",
              "      <td>E-reader</td>\n",
              "      <td>5</td>\n",
              "      <td>120.0</td>\n",
              "      <td>600.0</td>\n",
              "      <td>2019</td>\n",
              "    </tr>\n",
              "    <tr>\n",
              "      <th>Oludare</th>\n",
              "      <td>2019-02-01</td>\n",
              "      <td>Kimberly Bowman</td>\n",
              "      <td>External Hard Drive</td>\n",
              "      <td>4</td>\n",
              "      <td>120.0</td>\n",
              "      <td>480.0</td>\n",
              "      <td>2019</td>\n",
              "    </tr>\n",
              "    <tr>\n",
              "      <th>Buhari</th>\n",
              "      <td>2019-02-02</td>\n",
              "      <td>Michael Jenkins</td>\n",
              "      <td>Fitness Tracker</td>\n",
              "      <td>5</td>\n",
              "      <td>430.0</td>\n",
              "      <td>2150.0</td>\n",
              "      <td>2019</td>\n",
              "    </tr>\n",
              "    <tr>\n",
              "      <th>Zolile</th>\n",
              "      <td>2019-02-02</td>\n",
              "      <td>Tammy Meyer</td>\n",
              "      <td>Desktop Computer</td>\n",
              "      <td>2</td>\n",
              "      <td>1200.0</td>\n",
              "      <td>2400.0</td>\n",
              "      <td>2019</td>\n",
              "    </tr>\n",
              "    <tr>\n",
              "      <th>...</th>\n",
              "      <td>...</td>\n",
              "      <td>...</td>\n",
              "      <td>...</td>\n",
              "      <td>...</td>\n",
              "      <td>...</td>\n",
              "      <td>...</td>\n",
              "      <td>...</td>\n",
              "    </tr>\n",
              "    <tr>\n",
              "      <th>Nolo</th>\n",
              "      <td>2024-01-25</td>\n",
              "      <td>Dean Little</td>\n",
              "      <td>Desktop Computer</td>\n",
              "      <td>3</td>\n",
              "      <td>1200.0</td>\n",
              "      <td>3600.0</td>\n",
              "      <td>2024</td>\n",
              "    </tr>\n",
              "    <tr>\n",
              "      <th>Nolo</th>\n",
              "      <td>2024-01-27</td>\n",
              "      <td>Kathryn Brown</td>\n",
              "      <td>Gaming Console</td>\n",
              "      <td>5</td>\n",
              "      <td>987.0</td>\n",
              "      <td>4935.0</td>\n",
              "      <td>2024</td>\n",
              "    </tr>\n",
              "    <tr>\n",
              "      <th>Oludare</th>\n",
              "      <td>2024-01-27</td>\n",
              "      <td>Amber Mitchell</td>\n",
              "      <td>Smart Home Hub</td>\n",
              "      <td>4</td>\n",
              "      <td>200.0</td>\n",
              "      <td>800.0</td>\n",
              "      <td>2024</td>\n",
              "    </tr>\n",
              "    <tr>\n",
              "      <th>Nolo</th>\n",
              "      <td>2024-01-27</td>\n",
              "      <td>Holly Arellano</td>\n",
              "      <td>Desktop Computer</td>\n",
              "      <td>4</td>\n",
              "      <td>1200.0</td>\n",
              "      <td>4800.0</td>\n",
              "      <td>2024</td>\n",
              "    </tr>\n",
              "    <tr>\n",
              "      <th>Edmund</th>\n",
              "      <td>2024-01-28</td>\n",
              "      <td>Mr. Brandon Johnson</td>\n",
              "      <td>E-reader</td>\n",
              "      <td>4</td>\n",
              "      <td>120.0</td>\n",
              "      <td>480.0</td>\n",
              "      <td>2024</td>\n",
              "    </tr>\n",
              "  </tbody>\n",
              "</table>\n",
              "<p>1988 rows × 7 columns</p>\n",
              "</div>"
            ],
            "text/plain": [
              "                  date        customer_name              product  quantity  \\\n",
              "salesperson                                                                  \n",
              "Mbali       2019-01-31            Jenna Fox       Digital Camera         2   \n",
              "Nolo        2019-01-31        Mandy Pearson             E-reader         5   \n",
              "Oludare     2019-02-01      Kimberly Bowman  External Hard Drive         4   \n",
              "Buhari      2019-02-02      Michael Jenkins      Fitness Tracker         5   \n",
              "Zolile      2019-02-02          Tammy Meyer     Desktop Computer         2   \n",
              "...                ...                  ...                  ...       ...   \n",
              "Nolo        2024-01-25          Dean Little     Desktop Computer         3   \n",
              "Nolo        2024-01-27        Kathryn Brown       Gaming Console         5   \n",
              "Oludare     2024-01-27       Amber Mitchell       Smart Home Hub         4   \n",
              "Nolo        2024-01-27       Holly Arellano     Desktop Computer         4   \n",
              "Edmund      2024-01-28  Mr. Brandon Johnson             E-reader         4   \n",
              "\n",
              "             unit_price  total_price  year  \n",
              "salesperson                                 \n",
              "Mbali             780.0       1560.0  2019  \n",
              "Nolo              120.0        600.0  2019  \n",
              "Oludare           120.0        480.0  2019  \n",
              "Buhari            430.0       2150.0  2019  \n",
              "Zolile           1200.0       2400.0  2019  \n",
              "...                 ...          ...   ...  \n",
              "Nolo             1200.0       3600.0  2024  \n",
              "Nolo              987.0       4935.0  2024  \n",
              "Oludare           200.0        800.0  2024  \n",
              "Nolo             1200.0       4800.0  2024  \n",
              "Edmund            120.0        480.0  2024  \n",
              "\n",
              "[1988 rows x 7 columns]"
            ]
          },
          "execution_count": 73,
          "metadata": {},
          "output_type": "execute_result"
        }
      ],
      "source": [
        "explore_sales_3.sort_values(by='date')"
      ]
    },
    {
      "cell_type": "markdown",
      "id": "ED0FUfRqxZdF",
      "metadata": {
        "id": "ED0FUfRqxZdF"
      },
      "source": [
        "**Group aggregations**"
      ]
    },
    {
      "cell_type": "code",
      "execution_count": 80,
      "id": "UMdBfDyd_-R8",
      "metadata": {
        "id": "UMdBfDyd_-R8"
      },
      "outputs": [
        {
          "data": {
            "text/plain": [
              "year\n",
              "2019    1558.844011\n",
              "2020    1517.935233\n",
              "2021    1612.586957\n",
              "2022    1589.471649\n",
              "2023    1498.416268\n",
              "2024    1731.086957\n",
              "Name: total_price, dtype: float64"
            ]
          },
          "execution_count": 80,
          "metadata": {},
          "output_type": "execute_result"
        }
      ],
      "source": [
        "# Groupby year\n",
        "groupby_year = explore_sales.groupby(['year'])\n",
        "groupby_year['total_price'].mean()"
      ]
    },
    {
      "cell_type": "markdown",
      "id": "26fd094b-0fee-46f1-a4b8-73766813c42b",
      "metadata": {
        "id": "26fd094b-0fee-46f1-a4b8-73766813c42b"
      },
      "source": [
        "#  \n",
        "\n",
        "<div align=\"center\" style=\" font-size: 80%; text-align: center; margin: 0 auto\">\n",
        "<img src=\"https://raw.githubusercontent.com/Explore-AI/Pictures/master/ExploreAI_logos/EAI_Blue_Dark.png\"  style=\"width:200px\";/>\n",
        "</div>"
      ]
    }
  ],
  "metadata": {
    "colab": {
      "provenance": []
    },
    "kernelspec": {
      "display_name": "Python 3 (ipykernel)",
      "language": "python",
      "name": "python3"
    },
    "language_info": {
      "codemirror_mode": {
        "name": "ipython",
        "version": 3
      },
      "file_extension": ".py",
      "mimetype": "text/x-python",
      "name": "python",
      "nbconvert_exporter": "python",
      "pygments_lexer": "ipython3",
      "version": "3.11.8"
    }
  },
  "nbformat": 4,
  "nbformat_minor": 5
}
