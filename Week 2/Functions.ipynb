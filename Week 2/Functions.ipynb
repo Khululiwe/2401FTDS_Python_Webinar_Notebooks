{
  "cells": [
    {
      "cell_type": "markdown",
      "metadata": {
        "id": "bpFeroOnMhij"
      },
      "source": [
        "<div align=\"center\" style=\" font-size: 80%; text-align: center; margin: 0 auto\">\n",
        "<img src=\"https://raw.githubusercontent.com/Explore-AI/Pictures/master/Python-Notebook-Banners/Examples.png\"  style=\"display: block; margi      n-left: auto; margin-right: auto;\";/>\n",
        "</div>"
      ]
    },
    {
      "cell_type": "markdown",
      "metadata": {
        "id": "dyROix1vP33_"
      },
      "source": [
        "## Functions vs Imports\n",
        "\n",
        "We going to build an area calculator for Triangles\n",
        "\n",
        "![pic](https://www.worksheetsplanet.com/wp-content/uploads/2022/09/Area-of-a-Triangle-scaled.jpg)"
      ]
    },
    {
      "cell_type": "markdown",
      "metadata": {
        "id": "OzJRgwrIRjta"
      },
      "source": [
        "### Import way"
      ]
    },
    {
      "cell_type": "code",
      "execution_count": 3,
      "metadata": {
        "id": "M7EoTr4JP1JW"
      },
      "outputs": [],
      "source": [
        "import numpy as np"
      ]
    },
    {
      "cell_type": "code",
      "execution_count": 6,
      "metadata": {
        "id": "f7B11fKWg4Qz"
      },
      "outputs": [
        {
          "name": "stdout",
          "output_type": "stream",
          "text": [
            "6.0\n",
            "15.0\n"
          ]
        }
      ],
      "source": [
        "# build the area calculator using np multiply function\n",
        "# np.multiply(3,4)\n",
        "# area of triangle with base of 3 and height of 4\n",
        "area = np.multiply(1/2, np.multiply(3, 4))\n",
        "print(area)\n",
        "# area of triangle with base of 5 and a height of 6\n",
        "area = np.multiply(1/2, np.multiply(5, 6))\n",
        "print(area)\n",
        "\n"
      ]
    },
    {
      "cell_type": "markdown",
      "metadata": {
        "id": "rTqx3omnR50W"
      },
      "source": [
        "This is not reuseable we have to continously update the variables and rewrite the calculation\n",
        "\n",
        "### Functions way\n",
        "\n",
        "**Syntax**\n",
        "\n",
        "```python\n",
        "def function_name(parameter_1, parameter_n):\n",
        "      function block\n",
        "      return expression\n",
        "  ```\n",
        "\n",
        "* To define the function, we use the def keyword, along with the function name.\n",
        "* The identifier rule must follow the function name.\n",
        "* A function accepts the parameter (argument), and it can be optional.\n",
        "* The function block is started with the help of colon (:), and block statements must be at the same indentation.\n",
        "* To return the value from the function, we use the return statement. A function can have only one return statement involved in it."
      ]
    },
    {
      "cell_type": "code",
      "execution_count": 7,
      "metadata": {
        "id": "A5hW3igTR0iN"
      },
      "outputs": [],
      "source": [
        "# Let's define our own function.\n",
        "\n",
        "def area_tri(base, height):\n",
        "  # area = 1/2 * base * height\n",
        "  area = np.multiply(1/2, np.multiply(base, height))\n",
        "  return area"
      ]
    },
    {
      "cell_type": "code",
      "execution_count": 8,
      "metadata": {
        "id": "0K3PUfm2SVMO"
      },
      "outputs": [
        {
          "data": {
            "text/plain": [
              "6.0"
            ]
          },
          "execution_count": 8,
          "metadata": {},
          "output_type": "execute_result"
        }
      ],
      "source": [
        "area_tri(3,4)"
      ]
    },
    {
      "cell_type": "code",
      "execution_count": 9,
      "metadata": {
        "id": "X1WuNee7SY_k"
      },
      "outputs": [
        {
          "data": {
            "text/plain": [
              "15.0"
            ]
          },
          "execution_count": 9,
          "metadata": {},
          "output_type": "execute_result"
        }
      ],
      "source": [
        "area_tri(5,6)"
      ]
    },
    {
      "cell_type": "markdown",
      "metadata": {
        "id": "WjfyGDCOSeJs"
      },
      "source": [
        "Benefits to using custom functions\n",
        "\n",
        "* With the help of functions, we can avoid rewriting the same logic or code again and again in a program.\n",
        "* In a single Program, we can call Python functions anywhere and also call multiple times.\n",
        "* We can track a large Python program easily when it is divided into multiple functions.\n",
        "* The main achievement of Python functions is its Reusability."
      ]
    },
    {
      "cell_type": "markdown",
      "metadata": {
        "id": "ZSWwVFLCVElk"
      },
      "source": [
        "### Arguments vs Placeholders (Parameters)"
      ]
    },
    {
      "cell_type": "code",
      "execution_count": 10,
      "metadata": {
        "id": "YQ3gDSEySbFH"
      },
      "outputs": [],
      "source": [
        "# parameter\n",
        "def printer(name):\n",
        "  return (\"Welcome \" + name)"
      ]
    },
    {
      "cell_type": "markdown",
      "metadata": {
        "id": "Q55szVANTNjL"
      },
      "source": []
    },
    {
      "cell_type": "code",
      "execution_count": 11,
      "metadata": {
        "id": "3CFBHgZLVNTv"
      },
      "outputs": [
        {
          "data": {
            "text/plain": [
              "'Welcome Damian'"
            ]
          },
          "execution_count": 11,
          "metadata": {},
          "output_type": "execute_result"
        }
      ],
      "source": [
        "# argument\n",
        "printer(\"Damian\")"
      ]
    },
    {
      "cell_type": "code",
      "execution_count": 12,
      "metadata": {
        "id": "zMiYlqdkmPww"
      },
      "outputs": [
        {
          "ename": "TypeError",
          "evalue": "printer() missing 1 required positional argument: 'name'",
          "output_type": "error",
          "traceback": [
            "\u001b[0;31m---------------------------------------------------------------------------\u001b[0m",
            "\u001b[0;31mTypeError\u001b[0m                                 Traceback (most recent call last)",
            "Cell \u001b[0;32mIn[12], line 1\u001b[0m\n\u001b[0;32m----> 1\u001b[0m printer()\n",
            "\u001b[0;31mTypeError\u001b[0m: printer() missing 1 required positional argument: 'name'"
          ]
        }
      ],
      "source": [
        "printer()"
      ]
    },
    {
      "cell_type": "code",
      "execution_count": 13,
      "metadata": {
        "id": "Rd_JJtusVafP"
      },
      "outputs": [],
      "source": [
        "# Parameters: Setting a default variable when defining the function\n",
        "\n",
        "def printer_with_param(name = \"stranger!\"):\n",
        "  return (\"Welcome \" + name)"
      ]
    },
    {
      "cell_type": "code",
      "execution_count": 14,
      "metadata": {
        "id": "unA8XzCnVqZR"
      },
      "outputs": [
        {
          "data": {
            "text/plain": [
              "'Welcome stranger!'"
            ]
          },
          "execution_count": 14,
          "metadata": {},
          "output_type": "execute_result"
        }
      ],
      "source": [
        "# Now we can use our function without passing in a parameter\n",
        "printer_with_param()"
      ]
    },
    {
      "cell_type": "code",
      "execution_count": 15,
      "metadata": {
        "id": "K_T8qYFWVtii"
      },
      "outputs": [
        {
          "data": {
            "text/plain": [
              "'Welcome Damian'"
            ]
          },
          "execution_count": 15,
          "metadata": {},
          "output_type": "execute_result"
        }
      ],
      "source": [
        "# It still retains its flexibility of accepting a parameter\n",
        "printer_with_param(\"Damian\")"
      ]
    },
    {
      "cell_type": "markdown",
      "metadata": {
        "id": "PAS9vjYAWENs"
      },
      "source": [
        "### Global vs Local variable and parameters"
      ]
    },
    {
      "cell_type": "code",
      "execution_count": 16,
      "metadata": {
        "id": "WCq_jxzSVwRn"
      },
      "outputs": [],
      "source": [
        "globally = \"Damian\" # available anywhere after definition\n",
        "\n",
        "def greet(name = globally):\n",
        "  # function block\n",
        "  message = \"Welcome \" # available only within this greet function\n",
        "  print(message)\n",
        "  return (message + name)"
      ]
    },
    {
      "cell_type": "code",
      "execution_count": 17,
      "metadata": {
        "id": "yAxkIpSVWCv4"
      },
      "outputs": [
        {
          "name": "stdout",
          "output_type": "stream",
          "text": [
            "Welcome \n"
          ]
        },
        {
          "data": {
            "text/plain": [
              "'Welcome Damian'"
            ]
          },
          "execution_count": 17,
          "metadata": {},
          "output_type": "execute_result"
        }
      ],
      "source": [
        "greet()"
      ]
    },
    {
      "cell_type": "markdown",
      "metadata": {
        "id": "yyxFOGdJW2hI"
      },
      "source": [
        "We can still change the output with the user input"
      ]
    },
    {
      "cell_type": "code",
      "execution_count": 18,
      "metadata": {
        "id": "DWlx_B_4WNmI"
      },
      "outputs": [
        {
          "name": "stdout",
          "output_type": "stream",
          "text": [
            "Welcome \n"
          ]
        },
        {
          "data": {
            "text/plain": [
              "'Welcome Thato'"
            ]
          },
          "execution_count": 18,
          "metadata": {},
          "output_type": "execute_result"
        }
      ],
      "source": [
        "greet(\"Thato\")"
      ]
    },
    {
      "cell_type": "code",
      "execution_count": 19,
      "metadata": {
        "id": "7wdWR7VUWdqW"
      },
      "outputs": [
        {
          "data": {
            "text/plain": [
              "'Damian'"
            ]
          },
          "execution_count": 19,
          "metadata": {},
          "output_type": "execute_result"
        }
      ],
      "source": [
        "globally"
      ]
    },
    {
      "cell_type": "code",
      "execution_count": 20,
      "metadata": {
        "id": "6Aa8LvJHWkkc"
      },
      "outputs": [
        {
          "ename": "NameError",
          "evalue": "name 'message' is not defined",
          "output_type": "error",
          "traceback": [
            "\u001b[0;31m---------------------------------------------------------------------------\u001b[0m",
            "\u001b[0;31mNameError\u001b[0m                                 Traceback (most recent call last)",
            "Cell \u001b[0;32mIn[20], line 1\u001b[0m\n\u001b[0;32m----> 1\u001b[0m message\n",
            "\u001b[0;31mNameError\u001b[0m: name 'message' is not defined"
          ]
        }
      ],
      "source": [
        "message"
      ]
    },
    {
      "cell_type": "markdown",
      "metadata": {
        "id": "o0LffdSdXPet"
      },
      "source": [
        "***message*** only exists within the function as is known as a local variable\n",
        "\n",
        "***globally***  exists anywhere outside the function as is known as a global variable"
      ]
    },
    {
      "cell_type": "markdown",
      "metadata": {
        "id": "UYeYTRjuXonx"
      },
      "source": [
        "## Excercise"
      ]
    },
    {
      "cell_type": "markdown",
      "metadata": {
        "id": "oQohzCjUYjf1"
      },
      "source": [
        "## Challenge\n",
        "\n",
        "Given a list of lowercasestrings, return a list with the strings in sorted in alphabetical order, except group all the strings that begin with `'x'` at the beginning of the list.<br>\n",
        "e.g. ['mix', 'xyz', 'apple', 'xanadu', 'aardvark'] yields<br>\n",
        "`['xanadu', 'xyz', 'aardvark', 'apple', 'mix']`<br>\n",
        "\n",
        "Hint: this can be done by making 2 lists and sorting each of them before combining them.\n",
        "\n",
        "Hint: Remember that Python's `list` object has a `sort()` method. Python also has a built-in function called `sorted()`."
      ]
    },
    {
      "cell_type": "markdown",
      "metadata": {
        "id": "N8eWxhoAYoVc"
      },
      "source": [
        "### What to google?\n",
        "* How to define a list\n",
        "* How to sort list\n",
        "* How to loop over a list\n",
        "* How to check if a list contains a word starting with a given letter\n",
        "* How to join two list together"
      ]
    },
    {
      "cell_type": "code",
      "execution_count": 21,
      "metadata": {
        "id": "6p3emdnvXNSe"
      },
      "outputs": [
        {
          "data": {
            "text/plain": [
              "[2, 1, 3, 'word', '3.2']"
            ]
          },
          "execution_count": 21,
          "metadata": {},
          "output_type": "execute_result"
        }
      ],
      "source": [
        "# How to define a list\n",
        "\n",
        "this_is_a_list = [2,1,3,'word', '3.2']\n",
        "this_is_a_list"
      ]
    },
    {
      "cell_type": "code",
      "execution_count": 22,
      "metadata": {
        "id": "2ZNMQYH3YtrT"
      },
      "outputs": [
        {
          "ename": "TypeError",
          "evalue": "'<' not supported between instances of 'str' and 'int'",
          "output_type": "error",
          "traceback": [
            "\u001b[0;31m---------------------------------------------------------------------------\u001b[0m",
            "\u001b[0;31mTypeError\u001b[0m                                 Traceback (most recent call last)",
            "Cell \u001b[0;32mIn[22], line 1\u001b[0m\n\u001b[0;32m----> 1\u001b[0m this_is_a_list\u001b[38;5;241m.\u001b[39msort()\n",
            "\u001b[0;31mTypeError\u001b[0m: '<' not supported between instances of 'str' and 'int'"
          ]
        }
      ],
      "source": [
        "this_is_a_list.sort()"
      ]
    },
    {
      "cell_type": "code",
      "execution_count": 23,
      "metadata": {
        "id": "ASUC7O9RYvSh"
      },
      "outputs": [
        {
          "data": {
            "text/plain": [
              "[1, 2, 3, 3, 4]"
            ]
          },
          "execution_count": 23,
          "metadata": {},
          "output_type": "execute_result"
        }
      ],
      "source": [
        "# How to sort list\n",
        "new_list = [2,4,1,3,3]\n",
        "new_list.sort()\n",
        "new_list"
      ]
    },
    {
      "cell_type": "code",
      "execution_count": 24,
      "metadata": {
        "id": "JP_K721vYzNZ"
      },
      "outputs": [
        {
          "data": {
            "text/plain": [
              "['Apple', 'Bob']"
            ]
          },
          "execution_count": 24,
          "metadata": {},
          "output_type": "execute_result"
        }
      ],
      "source": [
        "# How to sort list\n",
        "xs = [\"Bob\", \"Apple\"]\n",
        "xs.sort()\n",
        "xs"
      ]
    },
    {
      "cell_type": "code",
      "execution_count": 26,
      "metadata": {
        "id": "_cfG1FxVY51d"
      },
      "outputs": [
        {
          "name": "stdout",
          "output_type": "stream",
          "text": [
            "banana\n",
            "bag\n"
          ]
        }
      ],
      "source": [
        "# list indexing\n",
        "words = ['apple', 'banana', 'bag']\n",
        "print(words[1])\n",
        "print(words[-1])"
      ]
    },
    {
      "cell_type": "code",
      "execution_count": 36,
      "metadata": {
        "id": "2_eQ_dCQZIWU"
      },
      "outputs": [
        {
          "name": "stdout",
          "output_type": "stream",
          "text": [
            "apple\n",
            "banana\n",
            "banana\n",
            "bag\n",
            "bag\n"
          ]
        }
      ],
      "source": [
        "# How to loop over a list\n",
        "list_of_fruits = ['apple', 'banana', 'bag']\n",
        "for fruit in list_of_fruits:\n",
        "    print(fruit)\n",
        "    if fruit[0] == 'b':\n",
        "        print(fruit)"
      ]
    },
    {
      "cell_type": "code",
      "execution_count": 34,
      "metadata": {},
      "outputs": [],
      "source": [
        "def find_fruit(list_of_fruit, character):\n",
        "    new_list_of_fruit = []\n",
        "    for fruit in list_of_fruit:\n",
        "        if fruit[0] == character:\n",
        "            new_list_of_fruit.append(fruit)\n",
        "    return new_list_of_fruit"
      ]
    },
    {
      "cell_type": "code",
      "execution_count": 35,
      "metadata": {},
      "outputs": [
        {
          "data": {
            "text/plain": [
              "['banana', 'bag']"
            ]
          },
          "execution_count": 35,
          "metadata": {},
          "output_type": "execute_result"
        }
      ],
      "source": [
        "find_fruit(list_of_fruits, 'b')\n"
      ]
    },
    {
      "cell_type": "code",
      "execution_count": 29,
      "metadata": {
        "id": "GbLA5y8KZMRv"
      },
      "outputs": [
        {
          "data": {
            "text/plain": [
              "['banana', 'bag']"
            ]
          },
          "execution_count": 29,
          "metadata": {},
          "output_type": "execute_result"
        }
      ],
      "source": [
        "# How to check if a list contains a word starting with a given letter\n",
        "[x for x in words if x[0] =='b']"
      ]
    },
    {
      "cell_type": "code",
      "execution_count": 30,
      "metadata": {
        "id": "s723q7obZf9m"
      },
      "outputs": [
        {
          "data": {
            "text/plain": [
              "['apple', 'banana', 'bag']"
            ]
          },
          "execution_count": 30,
          "metadata": {},
          "output_type": "execute_result"
        }
      ],
      "source": [
        "words"
      ]
    },
    {
      "cell_type": "code",
      "execution_count": 31,
      "metadata": {
        "id": "tZRnhe8bZZtT"
      },
      "outputs": [
        {
          "data": {
            "text/plain": [
              "['banana', 'bag']"
            ]
          },
          "execution_count": 31,
          "metadata": {},
          "output_type": "execute_result"
        }
      ],
      "source": [
        "words.remove('apple')\n",
        "words"
      ]
    },
    {
      "cell_type": "code",
      "execution_count": 32,
      "metadata": {},
      "outputs": [
        {
          "data": {
            "text/plain": [
              "['banana', 'bag', 'peach']"
            ]
          },
          "execution_count": 32,
          "metadata": {},
          "output_type": "execute_result"
        }
      ],
      "source": [
        "words.append(\"peach\")\n",
        "words"
      ]
    },
    {
      "cell_type": "code",
      "execution_count": 33,
      "metadata": {
        "id": "FeqlnzSOZdwE"
      },
      "outputs": [
        {
          "name": "stdout",
          "output_type": "stream",
          "text": [
            "['banana', 'bag', 'peach', 1, 2, 3, 3, 4]\n",
            "[1, 2, 3, 3, 4, 'banana', 'bag', 'peach']\n"
          ]
        }
      ],
      "source": [
        "# How to join two list together\n",
        "final_1 = words + new_list\n",
        "final_2 = new_list + words\n",
        "print(final_1)\n",
        "print(final_2)"
      ]
    },
    {
      "cell_type": "markdown",
      "metadata": {
        "id": "hrFayAYMZuM7"
      },
      "source": [
        "## Let's Try Code it"
      ]
    },
    {
      "cell_type": "code",
      "execution_count": 37,
      "metadata": {
        "id": "NbFhHrUQZqnG"
      },
      "outputs": [],
      "source": [
        "# Example 1\n",
        "def front_1(words):\n",
        "    x_words = []\n",
        "\n",
        "    for i in words:\n",
        "        if i[0] == 'x':\n",
        "            x_words.append(i)\n",
        "            words.remove(i)\n",
        "\n",
        "    x_words.sort()\n",
        "    words.sort()\n",
        "    return x_words + words"
      ]
    },
    {
      "cell_type": "code",
      "execution_count": null,
      "metadata": {
        "id": "_itar_B_Z1Zc"
      },
      "outputs": [],
      "source": [
        "# Example 2\n",
        "def front_2(words):\n",
        "    # Create a list of words starting with x\n",
        "    x_words = [word for word in words if word[0] == 'x']\n",
        "\n",
        "    # Create a list of words not starting with x\n",
        "    non_x_words = [word for word in words if word[0] != 'x']\n",
        "\n",
        "    #Sort and join both lists\n",
        "    return sorted(x_words) + sorted(non_x_words)"
      ]
    },
    {
      "cell_type": "code",
      "execution_count": null,
      "metadata": {
        "id": "AWD0urA-Z65s"
      },
      "outputs": [],
      "source": [
        "# Example 3\n",
        "def front_3(words):\n",
        "\n",
        "    #sort list alphabetically\n",
        "    words.sort()\n",
        "    #create new list containing the values'of the list that start with 'x' (still alphabetically)\n",
        "    ans = [words[i] for i in range(len(words)) if words[i][0] == 'x']\n",
        "\n",
        "    #remove the values in the new list from the original list\n",
        "    [words.remove(j) for j in ans]\n",
        "\n",
        "    #Extend the two lists\n",
        "    ans.extend(words) # answer = ans + words\n",
        "\n",
        "    return ans"
      ]
    },
    {
      "cell_type": "markdown",
      "metadata": {
        "id": "xAFb78BhaEyu"
      },
      "source": [
        "**Expected Outputs:**\n",
        "```python\n",
        "front_x(['mix', 'xyz', 'apple', 'xanadu', 'aardvark']) == ['xanadu', 'xyz', 'aardvark', 'apple', 'mix']\n",
        "front_x(['netowrk', 'artist', 'xamarian', 'king', 'cat']) == ['xamarian', 'artist', 'cat', 'king', 'netowrk']\n",
        "front_x(['jhsdfi', 'jeiri', 'iopqwu', 'bhvaiau', 'loaks']) == ['bhvaiau', 'iopqwu', 'jeiri', 'jhsdfi', 'loaks']\n",
        "```"
      ]
    },
    {
      "cell_type": "code",
      "execution_count": 38,
      "metadata": {},
      "outputs": [
        {
          "data": {
            "text/plain": [
              "['xanadu', 'xyz', 'aardvark', 'apple', 'mix']"
            ]
          },
          "execution_count": 38,
          "metadata": {},
          "output_type": "execute_result"
        }
      ],
      "source": [
        "ans1 = front_1(['mix', 'xyz', 'apple', 'xanadu', 'aardvark'])\n",
        "ans1\n"
      ]
    },
    {
      "cell_type": "code",
      "execution_count": null,
      "metadata": {},
      "outputs": [
        {
          "data": {
            "text/plain": [
              "['xamarian', 'artist', 'cat', 'king', 'netowrk']"
            ]
          },
          "execution_count": 28,
          "metadata": {},
          "output_type": "execute_result"
        }
      ],
      "source": [
        "ans2 = front_2(['netowrk', 'artist', 'xamarian', 'king', 'cat'])\n",
        "ans2"
      ]
    },
    {
      "cell_type": "code",
      "execution_count": null,
      "metadata": {},
      "outputs": [
        {
          "data": {
            "text/plain": [
              "['bhvaiau', 'iopqwu', 'jeiri', 'jhsdfi', 'loaks']"
            ]
          },
          "execution_count": 29,
          "metadata": {},
          "output_type": "execute_result"
        }
      ],
      "source": [
        "ans3 = front_3(['jhsdfi', 'jeiri', 'iopqwu', 'bhvaiau', 'loaks'])\n",
        "ans3"
      ]
    },
    {
      "cell_type": "markdown",
      "metadata": {
        "id": "-tH-w4rZbHRR"
      },
      "source": [
        "## Challenge\n",
        "\n",
        "Proteins are the building blocks of life. The process starts when another protein (a polymerase) reads your genetic code and performs transcription, the code (RNA) for making protein. Ribosomes will then attach to this RNA code to begin making specific proteins. Your genetic code is made up of pairs of nucleotides. Once transcribed into the code, these nucleotides contain the following nucleotides:\n",
        "\n",
        "U,G,A,C.\n",
        "\n",
        "UGA, UAA, and UAG are stop codons and AUG is a start codon so that the protein ,ribosome, can identify where to stop and start the protein formation.\n",
        "\n",
        "A genetics lab has tasked you to design a function which recognises the length of the RNA code (excluding the start and stop codons). The function must also determine if there code is actually a valid piece of code (must contain AUG as a start codon and UGA, UAA, or UAG at the end).\n",
        "\n",
        "Note: RNA starts with a start codon AUG and ends with UGA, UAA, or UAG\n",
        "\n",
        "The function must return \"Not readable RNA code\" if the above conditions are not met."
      ]
    },
    {
      "cell_type": "markdown",
      "metadata": {
        "id": "hmRg_x8CbPcz"
      },
      "source": [
        "### What to google?\n",
        "* How to check the length of a word/string\n",
        "* How to get the first 3 and last 3 letters/characters of a word\n",
        "* How to conditional statement work\n",
        "* How do if and else statements works"
      ]
    },
    {
      "cell_type": "code",
      "execution_count": null,
      "metadata": {
        "id": "O32YhhXVbJDq"
      },
      "outputs": [],
      "source": [
        "# How to check the length of a word/string\n",
        "x = 'hello'\n",
        "y = 'hello '\n",
        "print(len(x))\n",
        "print(len(y))"
      ]
    },
    {
      "cell_type": "code",
      "execution_count": null,
      "metadata": {
        "id": "XQ1lzFI6bTFc"
      },
      "outputs": [],
      "source": [
        "# How to get the first 3 and last 3 letters/characters of a word\n",
        "x[0]"
      ]
    },
    {
      "cell_type": "code",
      "execution_count": null,
      "metadata": {
        "id": "oiqGw77TbYqV"
      },
      "outputs": [],
      "source": [
        "x[0:3]"
      ]
    },
    {
      "cell_type": "code",
      "execution_count": null,
      "metadata": {
        "id": "D2f61aTpbZwT"
      },
      "outputs": [],
      "source": [
        "x[:3]"
      ]
    },
    {
      "cell_type": "code",
      "execution_count": null,
      "metadata": {
        "id": "N_lokXrpbbHD"
      },
      "outputs": [],
      "source": [
        "x[-3:]"
      ]
    },
    {
      "cell_type": "code",
      "execution_count": null,
      "metadata": {
        "id": "GSeFQk45beF6"
      },
      "outputs": [],
      "source": [
        "# Example 1\n",
        "def rna_length(mrna):\n",
        "    length = 0\n",
        "\n",
        "    if mrna[:3] == 'AUG' and (mrna[-3:] == 'UGA' or mrna[-3:] == 'UAA' or mrna[-3:] == 'UAG'):\n",
        "        for i in mrna:\n",
        "            length = length + 1\n",
        "        length = length  - 6\n",
        "        return length\n",
        "    else:\n",
        "        return \"Not readable RNA code\"\n"
      ]
    },
    {
      "cell_type": "code",
      "execution_count": null,
      "metadata": {
        "id": "7BgAjhPRbiid"
      },
      "outputs": [],
      "source": [
        "# Example 2\n",
        "def rna_length(mrna):\n",
        "\n",
        "    #search for starting and end name tags\n",
        "    if mrna[:3]=='AUG' and mrna[-3:] in ['UGA','UAA','UAG']:\n",
        "        #calculate the len\n",
        "        return (len(mrna) - 6)\n",
        "\n",
        "    # if no match tell the user\n",
        "    else:\n",
        "        return 'Not readable RNA code'"
      ]
    },
    {
      "cell_type": "markdown",
      "metadata": {
        "id": "c153M6szbnNY"
      },
      "source": [
        "_**Expected Outputs**_\n",
        "```python\n",
        "rna_length('AUGUAGCAUAA') == 5\n",
        "rna_length('AUGUUAUAG') == 3\n",
        "rna_length('AUGUAGGCACAUUUAUGCUCCUGA') == 18\n",
        "rna_length('AUGAGGCACCUUCUGCUCCUUAC') == \"Not readable RNA code\"\n",
        "```"
      ]
    }
  ],
  "metadata": {
    "colab": {
      "provenance": []
    },
    "kernelspec": {
      "display_name": "Python 3",
      "name": "python3"
    },
    "language_info": {
      "codemirror_mode": {
        "name": "ipython",
        "version": 3
      },
      "file_extension": ".py",
      "mimetype": "text/x-python",
      "name": "python",
      "nbconvert_exporter": "python",
      "pygments_lexer": "ipython3",
      "version": "3.11.8"
    }
  },
  "nbformat": 4,
  "nbformat_minor": 0
}
