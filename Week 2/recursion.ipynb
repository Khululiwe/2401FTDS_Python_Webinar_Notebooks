{
  "cells": [
    {
      "cell_type": "markdown",
      "id": "af0fce85",
      "metadata": {
        "id": "af0fce85"
      },
      "source": [
        "# Recursion"
      ]
    },
    {
      "cell_type": "markdown",
      "id": "fc9d9290",
      "metadata": {},
      "source": [
        "It is legal for one function to call another; it is also legal for a function to call itself. \n",
        "It may not be obvious why that is a good thing, but it turns out to be one of the most magical things a program can do. "
      ]
    },
    {
      "cell_type": "code",
      "execution_count": 1,
      "id": "df982c20",
      "metadata": {},
      "outputs": [],
      "source": [
        "def recursive_function(parameter):\n",
        "    # Base case how to stop the recursion \n",
        "    if base_case_condition(parameter):\n",
        "        return base_case_result\n",
        "    else:\n",
        "    # Recursive case\n",
        "        modified_parameter = modify_parameter(parameter)\n",
        "        return recursive_function(modified_parameter)\n"
      ]
    },
    {
      "cell_type": "markdown",
      "id": "3c45976d",
      "metadata": {
        "id": "3c45976d"
      },
      "source": [
        "### Example 1 - Coutdown"
      ]
    },
    {
      "cell_type": "code",
      "execution_count": 8,
      "id": "680f0927",
      "metadata": {
        "id": "680f0927",
        "tags": []
      },
      "outputs": [],
      "source": [
        "def countdown(n):\n",
        "    # base case\n",
        "    if n == 0:\n",
        "        print('Blastoff!')\n",
        "    else:\n",
        "        # recursive case\n",
        "        print(n)\n",
        "        countdown(n-1)"
      ]
    },
    {
      "cell_type": "code",
      "execution_count": 10,
      "id": "ca1913c3",
      "metadata": {
        "id": "ca1913c3",
        "tags": []
      },
      "outputs": [
        {
          "name": "stdout",
          "output_type": "stream",
          "text": [
            "10\n",
            "9\n",
            "8\n",
            "7\n",
            "6\n",
            "5\n",
            "4\n",
            "3\n",
            "2\n",
            "1\n",
            "Blastoff!\n"
          ]
        }
      ],
      "source": [
        "countdown(10)"
      ]
    },
    {
      "cell_type": "markdown",
      "id": "b8122d2f",
      "metadata": {
        "id": "b8122d2f"
      },
      "source": [
        "To understand recursion, it's important to have a good mental model of what happens when you run a function:\n",
        "\n",
        "1. Python interprets the arguments.\n",
        "\n",
        "2. It creates a [stack frame](https://nordvpn.com/cybersecurity/glossary/stack-frame/#:~:text=A%20stack%20frame%2C%20often%20just,%2DOut%20(LIFO)%20manner), which will contain the parameters and local variables.\n",
        "\n",
        "3. Next it assigns the values of the arguments to the parameters.\n",
        "\n",
        "4. Python runs the body of the function.\n",
        "\n",
        "5. Then it recycles the stack frame.\n",
        "\n",
        "The runtime stack contains the stack frames of currently-running functions."
      ]
    },
    {
      "cell_type": "markdown",
      "id": "13be8c33",
      "metadata": {
        "id": "13be8c33"
      },
      "source": [
        "Here's a stack diagram that shows what happens when this `countdown` runs.\n",
        "\n",
        "<img src=\"https://greenteapress.com/thinkpython2/html/thinkpython2005.png\">"
      ]
    },
    {
      "cell_type": "markdown",
      "id": "65453461",
      "metadata": {
        "id": "65453461"
      },
      "source": [
        "### Example 2 - Factorials\n",
        "\n",
        "$n$ $factorial$   (written as **$n!$**) is the number we get when we multiply every number from $1$ to $n$. For example:<br>\n",
        "$4! = 4 \\times 3 \\times 2 \\times 1 = 24$. <br>\n",
        "$10! = 10 \\times 9 \\times 8 \\times 7 \\times 6 \\times 5 \\times 4 \\times 3 \\times 2 \\times 1 = 3628800$.\n",
        "\n",
        "Factorials are difficult to calculate for larger numbers. To find out why, let's look at some smaller numbers.\n",
        "<br/>\n",
        "$1! = 1$\n",
        "<br/>\n",
        "$2! = 2 \\times 1 = 2$\n",
        "<br/>\n",
        "$3! = 3 \\times 2 \\times 1 = 6$\n",
        "<br/>\n",
        "$4! = 4 \\times 3 \\times 2 \\times 1 = 24$\n",
        "<br/>\n",
        "$5!  = 5 \\times 4 \\times 3 \\times 2 \\times 1 = 120$\n",
        "<br/>\n",
        "\n",
        "We're looking for something called the **recursive pattern**. Let's mirror the equations to help us see the pattern.<br>\n",
        "$1! = 1$\n",
        "<br/>\n",
        "$2! = 1 \\times 2$\n",
        "<br/>\n",
        "$3! = 1 \\times 2 \\times 3$\n",
        "<br/>\n",
        "$4! = 1 \\times 2 \\times 3 \\times 4$\n",
        "<br/>\n",
        "$5! = 1 \\times 2 \\times 3 \\times 4 \\times 5$\n",
        "<br/>\n",
        "\n",
        "We could re-write this as<br>\n",
        "$1! = 1$\n",
        "<br/>\n",
        "$2! = 1! \\times 2$\n",
        "<br/>\n",
        "$3! = 2! \\times 3$\n",
        "<br/>\n",
        "$4! = 3! \\times 4$\n",
        "<br/>\n",
        "$5! = 4! \\times 5$\n",
        "<br/>"
      ]
    },
    {
      "cell_type": "markdown",
      "id": "27bb625c",
      "metadata": {},
      "source": [
        "**Mathematically**\n",
        "\n",
        "$n! = n \\times (n - 1) \\times (n - 2) \\times \\dots \\times 2 \\times 1$\n",
        "\n",
        "Also notice that:\n",
        "$(n-1)! = (n - 1) \\times (n - 2) \\times (n - 3) \\times \\dots \\times 2 \\times 1$\n",
        "\n",
        "Hence:\n",
        "$n! = n \\times (n - 1)!$\n",
        "\n",
        "\n",
        "\n",
        "The base case is vitally important to a recursive function; without it, the process might never end. For `factorial(n)`, the function would continue to call itself with negative numbers and never return a value to the original call. Here, the base is when $n = 1$ or $n! = n$. The recursive case is $n! = n \\times (n - 1)!$\n",
        "\n",
        "In a recursive Python function, this would look like:"
      ]
    },
    {
      "cell_type": "code",
      "execution_count": 12,
      "id": "d04f3694",
      "metadata": {},
      "outputs": [],
      "source": [
        "def factorial(n):\n",
        "    # base case n==1\n",
        "    if n == 1:\n",
        "        print(n)\n",
        "        return n # 1\n",
        "    # recursive case \n",
        "    else:\n",
        "        print(n)\n",
        "        print(n-1)\n",
        "        return n * factorial(n-1)\n",
        "    "
      ]
    },
    {
      "cell_type": "markdown",
      "id": "2352705b",
      "metadata": {},
      "source": [
        "2! \n",
        "factorial(2) -> 2\n",
        "    return 2 * factorial(1) (1) \n",
        "        return 1\n"
      ]
    },
    {
      "cell_type": "code",
      "execution_count": 14,
      "id": "d7598cf8",
      "metadata": {},
      "outputs": [
        {
          "name": "stdout",
          "output_type": "stream",
          "text": [
            "2\n",
            "1\n",
            "1\n"
          ]
        },
        {
          "data": {
            "text/plain": [
              "2"
            ]
          },
          "execution_count": 14,
          "metadata": {},
          "output_type": "execute_result"
        }
      ],
      "source": [
        "factorial(2)"
      ]
    },
    {
      "cell_type": "markdown",
      "id": "d57a2e81",
      "metadata": {},
      "source": [
        "### Why recursion?"
      ]
    },
    {
      "cell_type": "markdown",
      "id": "2be9268e",
      "metadata": {},
      "source": [
        "It is possible to write an iterative version of any recursive algorithm. For example, we could use a while loop to calculate factorials. The `factorial` function calculates the factorial of a number `n` by iteratively multiplying a result variable by every integer from `2` up to `n`."
      ]
    },
    {
      "cell_type": "code",
      "execution_count": 15,
      "id": "62c70986",
      "metadata": {},
      "outputs": [],
      "source": [
        "def factorial(n):\n",
        "    result = 1\n",
        "    count = 2\n",
        "  \n",
        "    while count <= n:\n",
        "        result = result * count\n",
        "        count = count + 1\n",
        "    \n",
        "    return result"
      ]
    },
    {
      "cell_type": "code",
      "execution_count": 16,
      "id": "573715ee",
      "metadata": {},
      "outputs": [
        {
          "data": {
            "text/plain": [
              "24"
            ]
          },
          "execution_count": 16,
          "metadata": {},
          "output_type": "execute_result"
        }
      ],
      "source": [
        "factorial(4)"
      ]
    },
    {
      "cell_type": "markdown",
      "id": "cec72628",
      "metadata": {},
      "source": [
        "This solution is short and relatively simple. How do they compare?\n",
        "\n",
        "* The iterative solution uses _one_ loop, _three_ variables, and _three_ distinct calculations. \n",
        "* The recursive solution uses _zero_ loops, _one_ variable, and _two_ calculations. \n",
        "\n",
        "As the calculations become more complicated, iterative solutions grow in complexity."
      ]
    },
    {
      "cell_type": "markdown",
      "id": "fd5c67a1",
      "metadata": {
        "id": "fd5c67a1"
      },
      "source": [
        "## String functions\n",
        "\n",
        "Many things we do iteratively can be expressed recursively as well."
      ]
    },
    {
      "cell_type": "code",
      "execution_count": 20,
      "id": "ceea0cb3",
      "metadata": {
        "id": "ceea0cb3",
        "tags": []
      },
      "outputs": [],
      "source": [
        "def reverse(s):\n",
        "    # base case \n",
        "    if len(s)<2:\n",
        "        return s\n",
        "\n",
        "    # recursive case\n",
        "    # first letter\n",
        "    first_letter = s[0]\n",
        "    # rest string\n",
        "    rest = s[1:]\n",
        "    print(rest, first_letter)\n",
        "    return reverse(rest) + first_letter\n",
        "    "
      ]
    },
    {
      "cell_type": "markdown",
      "id": "6cac9109",
      "metadata": {},
      "source": [
        "recursive case:\n",
        "\n",
        "reverse(rest_string) + first_letter \n",
        "reverse(\"everse\") + \"r\"\n",
        "reverse(\"verse\") + \"e\" + 'r\""
      ]
    },
    {
      "cell_type": "code",
      "execution_count": 21,
      "id": "7f033242",
      "metadata": {
        "id": "7f033242",
        "tags": []
      },
      "outputs": [
        {
          "name": "stdout",
          "output_type": "stream",
          "text": [
            "everse r\n",
            "verse e\n",
            "erse v\n",
            "rse e\n",
            "se r\n",
            "e s\n"
          ]
        },
        {
          "data": {
            "text/plain": [
              "'esrever'"
            ]
          },
          "execution_count": 21,
          "metadata": {},
          "output_type": "execute_result"
        }
      ],
      "source": [
        "reverse('reverse')\n"
      ]
    },
    {
      "cell_type": "markdown",
      "id": "6b58c600",
      "metadata": {},
      "source": [
        "### Challenge: Towers of Hanoi\n",
        "\n",
        "The Tower of Hanoi is a classic mathematical puzzle consisting of three rod (A, B, C) and a number of disks (N) of different sizes, which can slide onto any rod. The puzzle starts with the disks stacked in ascending order of size on one rod (the leftmost rod), with the smallest disk at the top. The objective is to move the entire stack to another rod, following these rules:\n",
        "\n",
        "1. Only one disk can be moved at a time.\n",
        "2. Each move consists of taking the top disk from one stack and placing it onto another stack.\n",
        "3. No disk may be placed on top of a smaller disk.\n",
        "\n",
        "[This link may help to play the game first.](https://www.mathsisfun.com/games/towerofhanoi.html)\n",
        "\n",
        "\n",
        "\n",
        "How would you implement the Tower of Hanoi problem using a recursive function in Python? Explain"
      ]
    },
    {
      "cell_type": "markdown",
      "id": "b16d4df3",
      "metadata": {},
      "source": [
        "Expected outputs: <br>\n",
        "Input: 2 <br>\n",
        "Output: Disk 1 moved from A to B <br>\n",
        "Disk 2 moved from A to C <br>\n",
        "Disk 1 moved from B to C <br>\n",
        "\n",
        "Input: 3 <br>\n",
        "Output: Disk 1 moved from A to C <br>\n",
        "Disk 2 moved from A to B <br>\n",
        "Disk 1 moved from C to B <br>\n",
        "Disk 3 moved from A to C <br>\n",
        "Disk 1 moved from B to A <br>\n",
        "Disk 2 moved from B to C <br>\n",
        "Disk 1 moved from A to C <br>\n",
        "\n"
      ]
    },
    {
      "cell_type": "markdown",
      "id": "7ce80679",
      "metadata": {},
      "source": [
        " The idea is to use the helper node to reach the destination using recursion. Below is the pattern for this problem:\n",
        "\n",
        "Shift ‘N-1’ disks from ‘A’ to ‘B’, using C.\n",
        "Shift last disk from ‘A’ to ‘C’.\n",
        "Shift ‘N-1’ disks from ‘B’ to ‘C’, using A.\n",
        "\n",
        "![towers of hanoi example image](https://miro.medium.com/v2/resize:fit:1400/format:webp/1*eR2gxp8mKeaEWbbj4-cLMQ.png)"
      ]
    },
    {
      "cell_type": "code",
      "execution_count": null,
      "id": "74a6dd90",
      "metadata": {},
      "outputs": [],
      "source": [
        "def TowerOfHanoi(n, source, dest, aux):\n",
        "    "
      ]
    },
    {
      "cell_type": "code",
      "execution_count": null,
      "id": "e14cedb5",
      "metadata": {},
      "outputs": [],
      "source": [
        "n = 4\n",
        "TowerOfHanoi(n, 'A', 'C', 'B')"
      ]
    },
    {
      "cell_type": "code",
      "execution_count": null,
      "id": "1b3794e6",
      "metadata": {},
      "outputs": [],
      "source": []
    },
    {
      "cell_type": "code",
      "execution_count": null,
      "id": "cf0e4ec9",
      "metadata": {},
      "outputs": [],
      "source": []
    },
    {
      "cell_type": "code",
      "execution_count": null,
      "id": "04a02d28",
      "metadata": {},
      "outputs": [],
      "source": []
    },
    {
      "cell_type": "code",
      "execution_count": null,
      "id": "71c39fe5",
      "metadata": {},
      "outputs": [],
      "source": []
    },
    {
      "cell_type": "code",
      "execution_count": null,
      "id": "5bdaa5e9",
      "metadata": {},
      "outputs": [],
      "source": []
    },
    {
      "cell_type": "code",
      "execution_count": 6,
      "id": "e920bc68",
      "metadata": {},
      "outputs": [],
      "source": [
        "def TowerOfHanoi(n , source, destination, auxiliary):\n",
        "    if n==1:\n",
        "        print (\"Move disk 1 from source\",source,\"to destination\",destination)\n",
        "        return\n",
        "    TowerOfHanoi(n-1, source, auxiliary, destination)\n",
        "    print (\"Move disk\",n,\"from source\",source,\"to destination\",destination)\n",
        "    TowerOfHanoi(n-1, auxiliary, destination, source)"
      ]
    },
    {
      "cell_type": "markdown",
      "id": "9b1af91f",
      "metadata": {},
      "source": []
    },
    {
      "cell_type": "markdown",
      "id": "922e1062",
      "metadata": {},
      "source": []
    },
    {
      "cell_type": "code",
      "execution_count": null,
      "id": "115f4930",
      "metadata": {},
      "outputs": [],
      "source": []
    },
    {
      "cell_type": "code",
      "execution_count": null,
      "id": "04f8f1ca",
      "metadata": {},
      "outputs": [],
      "source": []
    },
    {
      "cell_type": "markdown",
      "id": "4eeee6f9",
      "metadata": {},
      "source": []
    },
    {
      "cell_type": "code",
      "execution_count": 7,
      "id": "b4812e5a",
      "metadata": {},
      "outputs": [
        {
          "name": "stdout",
          "output_type": "stream",
          "text": [
            "Move disk 1 from source A to destination B\n",
            "Move disk 2 from source A to destination C\n",
            "Move disk 1 from source B to destination C\n",
            "Move disk 3 from source A to destination B\n",
            "Move disk 1 from source C to destination A\n",
            "Move disk 2 from source C to destination B\n",
            "Move disk 1 from source A to destination B\n",
            "Move disk 4 from source A to destination C\n",
            "Move disk 1 from source B to destination C\n",
            "Move disk 2 from source B to destination A\n",
            "Move disk 1 from source C to destination A\n",
            "Move disk 3 from source B to destination C\n",
            "Move disk 1 from source A to destination B\n",
            "Move disk 2 from source A to destination C\n",
            "Move disk 1 from source B to destination C\n"
          ]
        }
      ],
      "source": [
        "n = 4\n",
        "TowerOfHanoi(n,'A', 'C', 'B')"
      ]
    }
  ],
  "metadata": {
    "celltoolbar": "Tags",
    "colab": {
      "provenance": []
    },
    "kernelspec": {
      "display_name": "Python 3 (ipykernel)",
      "language": "python",
      "name": "python3"
    },
    "language_info": {
      "codemirror_mode": {
        "name": "ipython",
        "version": 3
      },
      "file_extension": ".py",
      "mimetype": "text/x-python",
      "name": "python",
      "nbconvert_exporter": "python",
      "pygments_lexer": "ipython3",
      "version": "3.11.8"
    }
  },
  "nbformat": 4,
  "nbformat_minor": 5
}
